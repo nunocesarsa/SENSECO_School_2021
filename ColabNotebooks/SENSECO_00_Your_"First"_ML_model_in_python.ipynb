{
  "nbformat": 4,
  "nbformat_minor": 0,
  "metadata": {
    "colab": {
      "name": "SENSECO_00_Your \"First\" ML model in python.ipynb",
      "provenance": [],
      "toc_visible": true,
      "authorship_tag": "ABX9TyMMeMsx71Y0BSVaFWEMjNxl",
      "include_colab_link": true
    },
    "kernelspec": {
      "name": "python3",
      "display_name": "Python 3"
    },
    "language_info": {
      "name": "python"
    }
  },
  "cells": [
    {
      "cell_type": "markdown",
      "metadata": {
        "id": "view-in-github",
        "colab_type": "text"
      },
      "source": [
        "<a href=\"https://colab.research.google.com/github/nunocesarsa/SENSECO_School_2021/blob/main/ColabNotebooks/SENSECO_00_Your_%22First%22_ML_model_in_python.ipynb\" target=\"_parent\"><img src=\"https://colab.research.google.com/assets/colab-badge.svg\" alt=\"Open In Colab\"/></a>"
      ]
    },
    {
      "cell_type": "markdown",
      "metadata": {
        "id": "76cvS-FiPpyC"
      },
      "source": [
        "Scikit-learn:\n",
        "\n",
        "\"Scikit-learn is a free software machine learning library for the Python programming language.\". \n",
        "\n",
        "Apart from the python libraries being used for deep learning (e.g. Keras, pytorch), Scikit-learn is one of the most commonly used ML libraries. AutoSklearn (the autoML library we will use) is built on top of this library.\n",
        "\n",
        "Find more info about Scikit-learn at: \n",
        "- https://scikit-learn.org/stable/getting_started.html\n"
      ]
    },
    {
      "cell_type": "markdown",
      "metadata": {
        "id": "CwQb0TxxPDzg"
      },
      "source": [
        "#Packages & data\n",
        "\n",
        "- in colab we can install packages using a \"special\" command: !pip install \"package name\"\n"
      ]
    },
    {
      "cell_type": "code",
      "metadata": {
        "id": "hfRD9t3qO8g0"
      },
      "source": [
        "#this updates sci-kit learn on google colab from 0.22.2.post1 to 0.23.2\n",
        "\n",
        "#telling colab to install a package - somtimes, installing a package will require \"restarting runtime\" to make it work.\n",
        "!pip install scikit-learn==0.23.2 \n",
        "\n",
        "#and importing it\n",
        "import sklearn\n",
        "\n",
        "#importing packages that are used \"here and there\"\n",
        "\n",
        "#general plotting\n",
        "import matplotlib.pyplot as plt\n",
        "from mpl_toolkits.mplot3d import Axes3D\n",
        "\n",
        "#to control the color maps\n",
        "from matplotlib import cm\n",
        "\n",
        "#probably the most important packages\n",
        "import numpy as np\n",
        "import pandas as pd"
      ],
      "execution_count": null,
      "outputs": []
    },
    {
      "cell_type": "markdown",
      "metadata": {
        "id": "2QXuB1EARkNQ"
      },
      "source": [
        "## Exploring a dataset\n",
        "\n",
        "Adapted from: https://scikit-learn.org/stable/auto_examples/datasets/plot_iris_dataset.html\n",
        "\n",
        "Iris is a \"famous\" dataset that is used as example in many different tutorials. We will also use it for this first part because of that\n"
      ]
    },
    {
      "cell_type": "markdown",
      "metadata": {
        "id": "xjOU6R5zYgbO"
      },
      "source": [
        "\n",
        "\n",
        "We can load it as numpy object (numpy is a python library to work with multidimensional data)\n",
        "\n"
      ]
    },
    {
      "cell_type": "code",
      "metadata": {
        "id": "76jv-kqQU3Yc"
      },
      "source": [
        "from sklearn import datasets\n",
        "\n",
        "#as a numpy object\n",
        "iris = datasets.load_iris()\n",
        "X = iris.data\n",
        "y = iris.target\n",
        "\n",
        "X"
      ],
      "execution_count": null,
      "outputs": []
    },
    {
      "cell_type": "markdown",
      "metadata": {
        "id": "Cv0ZMBPFYjXk"
      },
      "source": [
        "Or we can load it as pandas dataframe which is a very similar format to the R data frame object"
      ]
    },
    {
      "cell_type": "code",
      "metadata": {
        "id": "BnvsyyWVUQaU"
      },
      "source": [
        "#as a pandas dataframe\n",
        "data = datasets.load_iris(as_frame=True)['data']\n",
        "target = datasets.load_iris(as_frame=True)['target']\n",
        "\n",
        "data"
      ],
      "execution_count": null,
      "outputs": []
    },
    {
      "cell_type": "markdown",
      "metadata": {
        "id": "1PMg9NcUVYrt"
      },
      "source": [
        "### Ploting\n",
        "\n",
        "https://matplotlib.org/stable/tutorials/colors/colormaps.html\n",
        "\n"
      ]
    },
    {
      "cell_type": "code",
      "metadata": {
        "id": "RWgQ67NsVy9w"
      },
      "source": [
        "#Ploting the first and second column using numpy:\n",
        "plt.figure(2, figsize=(8, 6))\n",
        "plt.clf()\n",
        "\n",
        "plt.scatter(X[:, 0], X[:, 1], c=y, cmap=plt.cm.Set1,\n",
        "            edgecolor='k')\n",
        "plt.xlabel('Sepal length')\n",
        "plt.ylabel('Sepal width')"
      ],
      "execution_count": null,
      "outputs": []
    },
    {
      "cell_type": "code",
      "metadata": {
        "id": "VFcHL49GVwj-"
      },
      "source": [
        "#Plotting the same, using pandas\n",
        "\n",
        "data.plot(x='sepal length (cm)',y='sepal width (cm)',kind=\"scatter\", #this section is pandas plot specific\n",
        "          figsize=(8, 6), #from here its basically a repetition from numpy - because this plot function calls matplotlib\n",
        "          colormap=plt.cm.Set1,\n",
        "          c=y,\n",
        "          edgecolor='k')\n"
      ],
      "execution_count": null,
      "outputs": []
    },
    {
      "cell_type": "markdown",
      "metadata": {
        "id": "Vk9qtDUTTUnQ"
      },
      "source": [
        "### And even a 3D plot"
      ]
    },
    {
      "cell_type": "code",
      "metadata": {
        "id": "3VvUEPQEe9A8"
      },
      "source": [
        "from sklearn.decomposition import PCA #im loading packages as \"needed\" but the best practice is to load everything together, first in one place.\n",
        "\n",
        "\n",
        "# To getter a better understanding of interaction of the dimensions\n",
        "# plot the first three PCA dimensions\n",
        "fig = plt.figure(1, figsize=(8, 6))\n",
        "ax = Axes3D(fig, elev=-150, azim=110)\n",
        "X_reduced = PCA(n_components=3).fit_transform(iris.data)\n",
        "ax.scatter(X_reduced[:, 0], X_reduced[:, 1], X_reduced[:, 2], c=y,\n",
        "           cmap=plt.cm.Set1, edgecolor='k', s=40)\n",
        "ax.set_title(\"First three PCA directions\")\n",
        "ax.set_xlabel(\"1st eigenvector\")\n",
        "ax.w_xaxis.set_ticklabels([])\n",
        "ax.set_ylabel(\"2nd eigenvector\")\n",
        "ax.w_yaxis.set_ticklabels([])\n",
        "ax.set_zlabel(\"3rd eigenvector\")\n",
        "ax.w_zaxis.set_ticklabels([])"
      ],
      "execution_count": null,
      "outputs": []
    },
    {
      "cell_type": "markdown",
      "metadata": {
        "id": "0hKWNHsufS2n"
      },
      "source": [
        "# Machine learning\n",
        "\n",
        "\n",
        "There are dozens of possible algorithms (although some of them are different versions of the same). Explore it here:\n",
        "\n",
        "https://scikit-learn.org/stable/supervised_learning.html#supervised-learning\n",
        "\n",
        "We'll just try out some. In Scikit learn there is some \"separation\" between classification and regression tasks, you have to load each type separately. \n",
        "\n",
        "\n"
      ]
    },
    {
      "cell_type": "code",
      "metadata": {
        "id": "taX2DqETfWae"
      },
      "source": [
        "# import the regressor for random forests\n",
        "from sklearn.ensemble import RandomForestClassifier\n",
        "# import support vecto machine - for classifications\n",
        "from sklearn.svm import SVC\n",
        "# importing neural networks - MLP stands for \"Multi-layer perceptron\" which is a technical name for the more basic types of neural netwroks\n",
        "from sklearn.neural_network import MLPClassifier"
      ],
      "execution_count": 7,
      "outputs": []
    },
    {
      "cell_type": "markdown",
      "metadata": {
        "id": "AAS4gtIIh8oj"
      },
      "source": [
        "Commonly, in ML there are very complex methods for validation but because we only have 150 samples in this dataset, we cant really do much out of it. \n",
        "\n",
        "Scikit-learn again, offers a number of tools for dealing with this, e.g. folding: https://scikit-learn.org/0.16/modules/classes.html#module-sklearn.cross_validation \n",
        "\n",
        "This time though, we will make use of pandas inbuilt functions for simplicity. \n",
        "\n"
      ]
    },
    {
      "cell_type": "code",
      "metadata": {
        "id": "UNkUEdk-ndeP"
      },
      "source": [
        "train_data = data.sample(frac=0.8,random_state=200)\n",
        "test_data  = data.drop(train_data.index)\n",
        "\n",
        "train_target = target.drop(test_data.index)\n",
        "test_target  = target.drop(train_data.index)"
      ],
      "execution_count": 8,
      "outputs": []
    },
    {
      "cell_type": "markdown",
      "metadata": {
        "id": "mGz5RpVUieuH"
      },
      "source": [
        "## Step 1: Create model object\n",
        "\n",
        "Random forest: https://scikit-learn.org/stable/modules/generated/sklearn.ensemble.RandomForestClassifier.html\n",
        "\n",
        "Support vector machine: https://scikit-learn.org/stable/modules/generated/sklearn.svm.SVC.html#sklearn.svm.SVC\n",
        "\n",
        "Artificial neural network: https://scikit-learn.org/stable/modules/generated/sklearn.neural_network.MLPClassifier.html\n"
      ]
    },
    {
      "cell_type": "code",
      "metadata": {
        "colab": {
          "base_uri": "https://localhost:8080/"
        },
        "id": "jHdWPA18iYmL",
        "outputId": "c1b011e8-b761-4e05-90e3-0f38bc1d717f"
      },
      "source": [
        "mdl_RFC = RandomForestClassifier()\n",
        "mdl_SVC = SVC()\n",
        "mdl_MLP = MLPClassifier()\n",
        "mdl_MLP "
      ],
      "execution_count": 9,
      "outputs": [
        {
          "output_type": "execute_result",
          "data": {
            "text/plain": [
              "MLPClassifier()"
            ]
          },
          "metadata": {},
          "execution_count": 9
        }
      ]
    },
    {
      "cell_type": "markdown",
      "metadata": {
        "id": "WJIa7LDijw1-"
      },
      "source": [
        "The model hyperparameters are one of the most important components of machine learning applications. They can vastly affect your model results and its highly recommended to always explore the effect of different parameters. \n",
        "\n",
        "These can vastly change the ability can be explored using the following commands and they can also be set using a either a dictionary or a direct expression. \n",
        "\n",
        "\n"
      ]
    },
    {
      "cell_type": "code",
      "metadata": {
        "id": "cQH26jybiduz"
      },
      "source": [
        "mdl_RFC.get_params()\n",
        "#mdl_SVC.get_params()\n",
        "#mdl_MLP.get_params()"
      ],
      "execution_count": null,
      "outputs": []
    },
    {
      "cell_type": "code",
      "metadata": {
        "id": "ozPce5vXjN4h"
      },
      "source": [
        "mdl_RFC_2 = RandomForestClassifier(n_estimators=250)\n",
        "mdl_RFC_3 = RandomForestClassifier(**{\"n_estimators\":500})\n",
        "\n",
        "mdl_RFC_2.get_params()\n",
        "mdl_RFC_3.get_params()"
      ],
      "execution_count": null,
      "outputs": []
    },
    {
      "cell_type": "markdown",
      "metadata": {
        "id": "tevM6gXHl1JL"
      },
      "source": [
        "##Step 2: fit the model"
      ]
    },
    {
      "cell_type": "code",
      "metadata": {
        "id": "Z7reBOvFl4rv"
      },
      "source": [
        "mdl_RFC.fit(train_data,train_target)\n",
        "mdl_SVC.fit(train_data,train_target)\n",
        "mdl_MLP.fit(train_data,train_target)"
      ],
      "execution_count": null,
      "outputs": []
    },
    {
      "cell_type": "markdown",
      "metadata": {
        "id": "bhIXFmV0miEx"
      },
      "source": [
        "##Step 3: Test the models\n",
        "\n",
        "Scikit learn has again, \"dozens!\", of methods for testing your accuracy. The usefulness of these depends on your application, naturally. \n",
        "\n",
        "Take a look: https://scikit-learn.org/stable/modules/classes.html#module-sklearn.metrics"
      ]
    },
    {
      "cell_type": "code",
      "metadata": {
        "id": "XxNUwpMimVk6"
      },
      "source": [
        "from sklearn.metrics import accuracy_score\n",
        "\n",
        "print(\"Random forest: \" +  str(accuracy_score(test_target,mdl_RFC.predict(test_data))))\n",
        "print(\"Support vector machines: \" +  str(accuracy_score(test_target,mdl_SVC.predict(test_data))))\n",
        "print(\"Artificial neural networks: \" +  str(accuracy_score(test_target,mdl_MLP.predict(test_data))))\n",
        "\n"
      ],
      "execution_count": null,
      "outputs": []
    },
    {
      "cell_type": "markdown",
      "metadata": {
        "id": "zFdZce-Yov8G"
      },
      "source": [
        "And the results can be (should be) very different\n",
        "\n",
        "What happens though if we change some of the parameters"
      ]
    },
    {
      "cell_type": "code",
      "metadata": {
        "id": "NGSKZ-5F_YtF"
      },
      "source": [
        "mdl_RFC_2 = RandomForestClassifier(n_estimators=200) #doubling the number of trees\n",
        "mdl_SVC_2 = SVC(kernel='sigmoid') # changing the kernel from default to sigmoid type\n",
        "mdl_MLP_2 = MLPClassifier(hidden_layer_sizes=(20,20))  # changing the neural network structure from one layer with 100 neurons to two layers with 50 neurons each\n",
        "\n",
        "\n",
        "mdl_RFC_2.fit(train_data,train_target)\n",
        "mdl_SVC_2.fit(train_data,train_target)\n",
        "mdl_MLP_2.fit(train_data,train_target)\n",
        "\n",
        "print(\"Random forest: \" +  str(accuracy_score(test_target,mdl_RFC_2.predict(test_data))))\n",
        "print(\"Support vector machines: \" +  str(accuracy_score(test_target,mdl_SVC_2.predict(test_data))))\n",
        "print(\"Artificial neural networks: \" +  str(accuracy_score(test_target,mdl_MLP_2.predict(test_data))))"
      ],
      "execution_count": null,
      "outputs": []
    },
    {
      "cell_type": "markdown",
      "metadata": {
        "id": "ReSgZ8wFBf7y"
      },
      "source": [
        "And changing the hyperparameters can change absolutely the results of the classification. "
      ]
    }
  ]
}