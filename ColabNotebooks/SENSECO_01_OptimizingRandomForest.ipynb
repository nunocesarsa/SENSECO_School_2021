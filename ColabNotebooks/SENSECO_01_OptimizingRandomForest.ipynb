{
  "nbformat": 4,
  "nbformat_minor": 0,
  "metadata": {
    "colab": {
      "name": "SENSECO_01_OptimizingRandomForest.ipynb",
      "provenance": [],
      "collapsed_sections": [],
      "toc_visible": true,
      "authorship_tag": "ABX9TyOaBQG3rOLblOQd+t5KFbMZ",
      "include_colab_link": true
    },
    "kernelspec": {
      "name": "python3",
      "display_name": "Python 3"
    },
    "language_info": {
      "name": "python"
    }
  },
  "cells": [
    {
      "cell_type": "markdown",
      "metadata": {
        "id": "view-in-github",
        "colab_type": "text"
      },
      "source": [
        "<a href=\"https://colab.research.google.com/github/nunocesarsa/SENSECO_School_2021/blob/main/ColabNotebooks/SENSECO_01_OptimizingRandomForest.ipynb\" target=\"_parent\"><img src=\"https://colab.research.google.com/assets/colab-badge.svg\" alt=\"Open In Colab\"/></a>"
      ]
    },
    {
      "cell_type": "code",
      "metadata": {
        "id": "CCbW0HSb4FVG"
      },
      "source": [
        "#updating the sklearn version\n",
        "!pip install scikit-learn==0.23.2 \n",
        "\n",
        "!pip install scikit-optimize"
      ],
      "execution_count": null,
      "outputs": []
    },
    {
      "cell_type": "markdown",
      "metadata": {
        "id": "6tgcgQb9NjE1"
      },
      "source": [
        "## Importing packages"
      ]
    },
    {
      "cell_type": "code",
      "metadata": {
        "id": "rTr1_HIc3GOS"
      },
      "source": [
        "#the test data\n",
        "import sklearn\n",
        "from sklearn.datasets import load_breast_cancer\n",
        "\n",
        "# import the regressor for random forests\n",
        "from sklearn.ensemble import RandomForestClassifier\n",
        "\n",
        "# These are a bunch of methods of te hyperopt package to generate the search space\n",
        "from hyperopt import hp\n",
        "\n",
        "# these are the minimizing function (fmin), Tree-parzen estimator method, an evaluation function, trial method and status indicators\n",
        "from hyperopt import fmin, tpe, space_eval, Trials, STATUS_OK, STATUS_FAIL\n",
        "from sklearn.model_selection import cross_val_score\n",
        "from sklearn.metrics import accuracy_score\n",
        "\n",
        "#our friends\n",
        "import numpy as np"
      ],
      "execution_count": 2,
      "outputs": []
    },
    {
      "cell_type": "markdown",
      "metadata": {
        "id": "8o781iPA3eBx"
      },
      "source": [
        "#The data:"
      ]
    },
    {
      "cell_type": "code",
      "metadata": {
        "id": "fa_37rZs3dZS"
      },
      "source": [
        "data = load_breast_cancer(as_frame=True)['data']\n",
        "target = load_breast_cancer(as_frame=True)['target']\n",
        "\n",
        "data"
      ],
      "execution_count": null,
      "outputs": []
    },
    {
      "cell_type": "code",
      "metadata": {
        "id": "e5KiJHvgTHEm"
      },
      "source": [
        "train_data = data.sample(frac=0.8,random_state=200)\n",
        "test_data  = data.drop(train_data.index)\n",
        "\n",
        "train_target = target.drop(test_data.index)\n",
        "test_target  = target.drop(train_data.index)\n",
        "\n"
      ],
      "execution_count": 4,
      "outputs": []
    },
    {
      "cell_type": "markdown",
      "metadata": {
        "id": "-lyExiMBW8zx"
      },
      "source": [
        "# General parameters"
      ]
    },
    {
      "cell_type": "code",
      "metadata": {
        "id": "Y8F83YjsW-2t"
      },
      "source": [
        "n_times = 10\n",
        "n_cv = 3\n",
        "rnd_state = 42"
      ],
      "execution_count": 12,
      "outputs": []
    },
    {
      "cell_type": "markdown",
      "metadata": {
        "id": "i3bKNU0HDSbp"
      },
      "source": [
        "# Bayesian grid Search\n",
        "\n",
        "- This method is a more \"basic\" method but just to compare it is shown here. \n",
        "\n",
        "Adapted from: https://scikit-optimize.github.io/stable/modules/generated/skopt.BayesSearchCV.html\n",
        "\n"
      ]
    },
    {
      "cell_type": "markdown",
      "metadata": {
        "id": "3lKF4MFPVCsy"
      },
      "source": [
        "## Hyperparameter space"
      ]
    },
    {
      "cell_type": "code",
      "metadata": {
        "id": "QivPT36lD9PJ"
      },
      "source": [
        "from skopt import BayesSearchCV\n",
        "from skopt.space import Real, Categorical, Integer\n",
        "\n",
        "#repeating the same choices as before\n",
        "rfr_BGridCV = BayesSearchCV(\n",
        "    RandomForestClassifier(),{\n",
        "        'n_estimators': Integer(50,1000), \n",
        "        'min_samples_split': Real(0.001,.5),\n",
        "        'min_samples_leaf': Real(0.001,.5),\n",
        "    },\n",
        "    cv=n_cv,\n",
        "    n_iter=n_times,\n",
        "    random_state=rnd_state\n",
        ")\n",
        "\n",
        "\n",
        "rfr_BGridCV"
      ],
      "execution_count": null,
      "outputs": []
    },
    {
      "cell_type": "markdown",
      "metadata": {
        "id": "JGvlqcGOVFdH"
      },
      "source": [
        "## Optimizing"
      ]
    },
    {
      "cell_type": "code",
      "metadata": {
        "id": "mew8MnKfH3vn"
      },
      "source": [
        "rfr_BGridCV.fit(train_data,train_target)"
      ],
      "execution_count": null,
      "outputs": []
    },
    {
      "cell_type": "markdown",
      "metadata": {
        "id": "kU7Fi9ZB5RJ6"
      },
      "source": [
        "# Tree structure Parzen Estimator\n",
        "\n",
        "Described in: \n",
        "https://papers.nips.cc/paper/2011/file/86e8f7ab32cfd12577bc2619bc635690-Paper.pdf\n",
        "\n",
        "hyperopt package:http://hyperopt.github.io/hyperopt/\n",
        "\n",
        "Example of regular grid search: https://scikit-optimize.github.io/stable/auto_examples/hyperparameter-optimization.html"
      ]
    },
    {
      "cell_type": "markdown",
      "metadata": {
        "id": "Mql6lfPz7_Ui"
      },
      "source": [
        "## Hyperpameter space"
      ]
    },
    {
      "cell_type": "markdown",
      "metadata": {
        "id": "H6P3Sojv8E5p"
      },
      "source": [
        "This is just a showcase but all possible parameter of the random forest could be used here:\n",
        "\n",
        "https://scikit-learn.org/stable/modules/generated/sklearn.ensemble.RandomForestClassifier.html\n",
        "\n",
        "The description of how to define the hyperparameter spaces is here:\n",
        "\n",
        "http://hyperopt.github.io/hyperopt/getting-started/search_spaces/"
      ]
    },
    {
      "cell_type": "code",
      "metadata": {
        "id": "y4WM0qMf8IUH"
      },
      "source": [
        "space = {\n",
        "    'n_estimators': hp.choice('n_estimators', range(50, 1001, 50)), #to avoid errors (e.g. to few trees)\n",
        "    'min_samples_split' : hp.uniform('min_samples_split', 0,.5), #these must be a fractio up to 50% of the data it seems\n",
        "    'min_samples_leaf' : hp.uniform('min_samples_leaf', 0,.5)\n",
        "}"
      ],
      "execution_count": 15,
      "outputs": []
    },
    {
      "cell_type": "markdown",
      "metadata": {
        "id": "jpJ0IsEa8S97"
      },
      "source": [
        "## Objective function\n",
        "\n",
        "The objective function returns the prediction error. This error is used to evaluate if the model improved or not"
      ]
    },
    {
      "cell_type": "code",
      "metadata": {
        "id": "-q_S9K5O8kah"
      },
      "source": [
        "#first we define the function\n",
        "N_FOLDS = n_cv\n",
        "MAX_EVALS = n_times\n",
        "\n",
        "def objective(params, n_folds = N_FOLDS):\n",
        "    \"\"\"Objective function for Random forest Hyperparameter Tuning\"\"\"\n",
        "\n",
        "    # Perform n_fold cross validation with hyperparameters\n",
        "    # Use early stopping and evaluate based on ROC AUC\n",
        "    rf = RandomForestClassifier(**params, random_state = rnd_state,bootstrap=True,oob_score=True)\n",
        "\n",
        "    #clf = LogisticRegression(**params,random_state=0,verbose =0)\n",
        "    scores = cross_val_score(rf, X=train_data, y=train_target, cv=5, scoring='accuracy') #thi is the simple Mean abs\n",
        "\n",
        "    # Extract the best score\n",
        "    best_score = np.mean(abs(scores)) #mean value\n",
        "\n",
        "    # Loss must be minimized\n",
        "    loss = 1-best_score #this might have to be adapted depending on the use case\n",
        "\n",
        "    #NOTICE: fmin is a minimization function from python so it attempts to find the minimum value. \n",
        "    #If accuracy response is \"good\" when high, then, we might need to invert it. But remember then that your final loss is 1 - loss.\n",
        "\n",
        "    # Returns the loss error, the current parameters and the status\n",
        "    return {'loss': loss, 'params': params, 'status': STATUS_OK}\n",
        "\n"
      ],
      "execution_count": 16,
      "outputs": []
    },
    {
      "cell_type": "code",
      "metadata": {
        "id": "skwGBowSAYi7"
      },
      "source": [
        "#testing function \n",
        "print(objective( {'n_estimators':50}, n_folds = N_FOLDS))\n",
        "print(objective({'n_estimators':150}, n_folds = N_FOLDS))\n",
        "print(objective({'n_estimators':500}, n_folds = N_FOLDS))"
      ],
      "execution_count": null,
      "outputs": []
    },
    {
      "cell_type": "markdown",
      "metadata": {
        "id": "sx5s8MUH9o6s"
      },
      "source": [
        "## Optimizing\n",
        "\n",
        "Now we call the actual function - using the Adaptative tree parzen estimators approach:\n",
        "\n",
        "http://hyperopt.github.io/hyperopt/#algorithms"
      ]
    },
    {
      "cell_type": "code",
      "metadata": {
        "id": "-o2kIZG3-GPx"
      },
      "source": [
        "bayes_trials = Trials()\n",
        "\n",
        "best_rfr = fmin(fn = objective, space = space, algo = tpe.suggest, max_evals = MAX_EVALS, trials = bayes_trials,verbose=1)"
      ],
      "execution_count": null,
      "outputs": []
    },
    {
      "cell_type": "code",
      "metadata": {
        "id": "ej5u1h3HHEZQ"
      },
      "source": [
        "best_rfr"
      ],
      "execution_count": null,
      "outputs": []
    },
    {
      "cell_type": "markdown",
      "metadata": {
        "id": "OvUX1oZHJfTa"
      },
      "source": [
        "# Comparing\n"
      ]
    },
    {
      "cell_type": "code",
      "metadata": {
        "id": "wRVNyHD1M50_"
      },
      "source": [
        "#Best parameters on Grid search\n",
        "rfr_BGridCV.best_params_"
      ],
      "execution_count": null,
      "outputs": []
    },
    {
      "cell_type": "code",
      "metadata": {
        "id": "pCbbFvtoM_sP"
      },
      "source": [
        "#Best parameters on TPE\n",
        "best_rfr"
      ],
      "execution_count": null,
      "outputs": []
    },
    {
      "cell_type": "code",
      "metadata": {
        "id": "Sx9Dho6KJheo"
      },
      "source": [
        "#creating a random forest using default settings\n",
        "RF_DEF = RandomForestClassifier(random_state=rnd_state)\n",
        "\n",
        "#Creating a random forest object model using the tpe parameters\n",
        "RF_BGS = RandomForestClassifier(**{'min_samples_leaf': 0.2056418754678036,'min_samples_split': 0.36413514584548523,'n_estimators': 936})\n",
        "RF_BGS\n",
        "\n",
        "#Creating a random forest object model using the tpe parameters\n",
        "RF_TPE = RandomForestClassifier(**best_rfr)\n",
        "RF_TPE"
      ],
      "execution_count": null,
      "outputs": []
    },
    {
      "cell_type": "markdown",
      "metadata": {
        "id": "D42sy_KYNPM3"
      },
      "source": [
        "##Train the model and measure the error"
      ]
    },
    {
      "cell_type": "code",
      "metadata": {
        "id": "BK2nu2KjNLTg"
      },
      "source": [
        "RF_DEF.fit(train_data,train_target)\n",
        "RF_BGS.fit(train_data,train_target)\n",
        "RF_TPE.fit(train_data,train_target)\n",
        "\n",
        "error_def = accuracy_score(test_target,RF_DEF.predict(test_data))\n",
        "error_bgs = accuracy_score(test_target,RF_BGS.predict(test_data))\n",
        "error_tpe = accuracy_score(test_target,RF_TPE.predict(test_data))\n",
        "\n",
        "print(\"Default: \" +  str(error_def))\n",
        "print(\"BGS Optimized: \" +  str(error_bgs))\n",
        "print(\"TPE Optimized: \" +  str(error_tpe))"
      ],
      "execution_count": null,
      "outputs": []
    },
    {
      "cell_type": "code",
      "metadata": {
        "id": "c0akq-b5MsQQ"
      },
      "source": [
        "#rfr_BGridCV = BayesSearchCV(\n",
        "#    RandomForestClassifier(),{\n",
        "#        'n_estimators': Categorical([10,50,100,250,500,750,1000]), \n",
        "#        'min_samples_split': Categorical([0.1,0.2,0.3,0.4,0.5]),\n",
        "#        'min_samples_leaf': Categorical([0.1,0.2,0.3,0.4,0.5]),\n",
        "#    },\n",
        "#    cv=5,\n",
        "#    n_iter=10,\n",
        "#    random_state=42\n",
        "#)\n"
      ],
      "execution_count": null,
      "outputs": []
    }
  ]
}