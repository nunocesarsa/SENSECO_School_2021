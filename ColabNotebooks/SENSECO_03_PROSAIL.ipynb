{
  "nbformat": 4,
  "nbformat_minor": 0,
  "metadata": {
    "colab": {
      "name": "SENSECO_03_PROSAIL.ipynb",
      "provenance": [],
      "toc_visible": true,
      "authorship_tag": "ABX9TyM9T/PglEcTSHZp7ku2tjcq",
      "include_colab_link": true
    },
    "kernelspec": {
      "name": "python3",
      "display_name": "Python 3"
    },
    "language_info": {
      "name": "python"
    }
  },
  "cells": [
    {
      "cell_type": "markdown",
      "metadata": {
        "id": "view-in-github",
        "colab_type": "text"
      },
      "source": [
        "<a href=\"https://colab.research.google.com/github/nunocesarsa/SENSECO_School_2021/blob/main/ColabNotebooks/SENSECO_03_PROSAIL.ipynb\" target=\"_parent\"><img src=\"https://colab.research.google.com/assets/colab-badge.svg\" alt=\"Open In Colab\"/></a>"
      ]
    },
    {
      "cell_type": "markdown",
      "metadata": {
        "id": "lLF6Ko6pc7lI"
      },
      "source": [
        "#Preparing google colab\n",
        "\n",
        "- This notebook just details how to load PROSAIL into google colab and how to set up a simulation of Sentinel 2 data\n",
        "\n"
      ]
    },
    {
      "cell_type": "code",
      "metadata": {
        "colab": {
          "base_uri": "https://localhost:8080/"
        },
        "id": "KLTzejIMcqWL",
        "outputId": "c6d02658-7c5b-4452-8e6b-653554a276e3"
      },
      "source": [
        "#mounting google drive\n",
        "from google.colab import drive\n",
        "drive.mount('/content/drive')"
      ],
      "execution_count": 1,
      "outputs": [
        {
          "output_type": "stream",
          "name": "stdout",
          "text": [
            "Mounted at /content/drive\n"
          ]
        }
      ]
    },
    {
      "cell_type": "markdown",
      "metadata": {
        "id": "3ycW-02bd9sH"
      },
      "source": [
        "## Installing packages"
      ]
    },
    {
      "cell_type": "code",
      "metadata": {
        "id": "tWsG8j9YeAte"
      },
      "source": [
        "#Installing PROSAIL\n",
        "!pip install prosail\n",
        "\n",
        "#latin hypercube stuff\n",
        "!pip install lhsmdu\n",
        "\n",
        "#this package as a number of functions to deal with hyperspectral data\n",
        "!pip install pysptools"
      ],
      "execution_count": null,
      "outputs": []
    },
    {
      "cell_type": "markdown",
      "metadata": {
        "id": "rywUzeLJeMo_"
      },
      "source": [
        "#Importing packages"
      ]
    },
    {
      "cell_type": "code",
      "metadata": {
        "id": "8bPNJeKtePBe"
      },
      "source": [
        "#General purpose: \n",
        "import matplotlib.pyplot as plt\n",
        "import numpy\n",
        "import numpy as np\n",
        "from mpl_toolkits.mplot3d import Axes3D\n",
        "from scipy import stats\n",
        "\n",
        "#the beutiful R like data frame\n",
        "import pandas as pd\n",
        "\n",
        "#PROSPECT+SAIL Radiative transfer mode package\n",
        "import prosail\n",
        "\n",
        "#Sampling design package\n",
        "import lhsmdu\n",
        "\n",
        "#a few more stuff for random\n",
        "import random as rdm\n",
        "import math\n",
        "\n",
        "#package to for operations on spectral data\n",
        "import pysptools as sptool \n",
        "from pysptools import distance"
      ],
      "execution_count": 3,
      "outputs": []
    },
    {
      "cell_type": "markdown",
      "metadata": {
        "id": "buJLc-QieaMQ"
      },
      "source": [
        "## Custom functions\n",
        "\n",
        "- These functions have multiple purposes from simplifying the interaction with PROSAIL to converting the input data into S2 datasets.\n",
        "\n",
        "- They can appear a bit complex because they are lenghty but they are simpler than they might seem at first sight"
      ]
    },
    {
      "cell_type": "markdown",
      "metadata": {
        "id": "12ECY0sAe8ln"
      },
      "source": [
        "### Custom PROSAIL call\n",
        "\n",
        "- Expects as input the biophysical parameters we want to model, returns the hyperspectral response. \n",
        "\n",
        "- Only function is to just simplify the usage of prosail.run_prosail"
      ]
    },
    {
      "cell_type": "code",
      "metadata": {
        "id": "UmB9KZXqe6Hl"
      },
      "source": [
        "def custom_prosail(cab,lai,sol_zen,inc_zen,raa):\n",
        "  \n",
        "  import prosail\n",
        "  #\"default\" parameters\n",
        "  cm = 0.005\n",
        "  cw = 0.005\n",
        "  n= 1.\n",
        "  car=10.\n",
        "  cbrown=0.01\n",
        "  typelidf=1 #this is the default option\n",
        "  lidfa = -1 #leaf angle distribution parameter a and b\n",
        "  lidfb=-0.15\n",
        "  hspot= 0.01 #hotspot parameters \n",
        "\n",
        "  #sun and viewing angle\n",
        "  #tts=30. #observation and solar position parameters\n",
        "  #tto=10. \n",
        "  #psi=0.\n",
        "\n",
        "  #for now i put them by hand but they should be an input of a custom function\n",
        "  tts=sol_zen #solar zenith angle\n",
        "  tto=inc_zen #sensor zenith angle\n",
        "  psi=raa\n",
        "\n",
        "  \n",
        "\n",
        "  rho_out = prosail.run_prosail(n,\n",
        "                                 cab,\n",
        "                                 car,\n",
        "                                 cbrown,\n",
        "                                 cw,\n",
        "                                 cm,\n",
        "                                 lai,\n",
        "                                 lidfa,\n",
        "                                 hspot,\n",
        "                                 tts,tto,psi,\n",
        "                                 typelidf, lidfb,\n",
        "                                 prospect_version=\"D\",\n",
        "                                 factor='SDR', \n",
        "                                 rsoil=.5, psoil=.5)\n",
        "  return(rho_out)\n",
        "\n",
        "test_rho =  custom_prosail(20,3,30,30,30)\n",
        "print(test_rho.shape)\n",
        "\n",
        "#Optional plotting\n",
        "plt.plot(test_rho)"
      ],
      "execution_count": null,
      "outputs": []
    },
    {
      "cell_type": "markdown",
      "metadata": {
        "id": "15uv6ruuiFWx"
      },
      "source": [
        "### Hyperspectral to Sentinel 2\n",
        "\n",
        "This function convert an array output from prosail.run_prosail to Sentinel 2 A or B data (depending on the sensor). \n",
        "\n",
        "S2 Response functions: https://sentinels.copernicus.eu/web/sentinel/user-guides/sentinel-2-msi/document-library/-/asset_publisher/Wk0TKajiISaR/content/sentinel-2a-spectral-responses\n",
        "\n",
        "Note: for this exercise we will assume everything is Sentinel 2A\n"
      ]
    },
    {
      "cell_type": "code",
      "metadata": {
        "id": "YiZpl-Uvi18x"
      },
      "source": [
        "#here you should change so it points to your file\n",
        "filepath=\"/content/drive/MyDrive/SENSECO_S2Data/S2_Responses_S2A.csv\"\n",
        "\n",
        "def Prosail2S2(path2csv,spectra_input):\n",
        "\n",
        "  #pointing needed packages\n",
        "  import pandas as pd\n",
        "  import numpy as np\n",
        "  #upload a S2_Response.csv from https://earth.esa.int/web/sentinel/user-guides/sentinel-2-msi/document-library/-/asset_publisher/Wk0TKajiISaR/content/sentinel-2a-spectral-responses\n",
        "\n",
        "  s2_table = pd.read_csv(path2csv,sep=\";\",decimal=\",\") #check if this is proper, regarding the sep and dec\n",
        "  #chekc which row you are actually extracting\n",
        "\n",
        "  s2_table_sel = s2_table[s2_table['SR_WL'].between(400,2500)] #selects all values between 400 and 2500\n",
        "  spectra_input_df = pd.DataFrame(data=spectra_input,columns=[\"rho\"],index=s2_table_sel.index) #transforms the input array into a pandas df with the column name rho and row.index = to the original input table\n",
        "\n",
        "  rho_s2 = s2_table_sel.multiply(spectra_input_df['rho'],axis=\"index\") #calculates the numerator\n",
        "  w_band_sum = s2_table_sel.sum(axis=0,skipna = True) #calculates the denominator\n",
        "\n",
        "  output = (rho_s2.sum(axis=0)/w_band_sum).rename_axis(\"ID\").values #runs the weighted mean and converts the output to a numpy array\n",
        "\n",
        "  return output[1:] #removes the first value because it represents the wavelength column\n",
        "\n",
        "test_rho_s2 = Prosail2S2(filepath,test_rho)\n",
        "print(test_rho_s2.shape)\n",
        "\n",
        "#13 Band order:\n",
        "#B1, 2 , 3 (..) 8, 8A, 9, 10, 11, 12\n",
        "\n",
        "#Bands we want: 2 ,3 ,4 , 5, 6, 7, 8A, 11, 12\n",
        "\n",
        "#Selecting only the bands of interest is then trivial:\n",
        "test_rho_s2_sel = test_rho_s2[[1,2,3,4,5,6,7,11,12],]\n",
        "\n",
        "\n",
        "#Optional plotting\n",
        "plt.figure(0)\n",
        "plt.plot(test_rho_s2,\"o\" )\n",
        "plt.figure(1)\n",
        "plt.plot(test_rho_s2_sel,\"o\")"
      ],
      "execution_count": null,
      "outputs": []
    },
    {
      "cell_type": "markdown",
      "metadata": {
        "id": "Xn5ILxAsn1Pq"
      },
      "source": [
        "### Generating a table of spectra data\n",
        "\n",
        "Takes as input a pandas dataframe with the input data and uses that to call the prosail and stack everything neatly into an array which can then be used elsewhere"
      ]
    },
    {
      "cell_type": "code",
      "metadata": {
        "id": "oBC8XAr7n_rZ"
      },
      "source": [
        "\n",
        "def Gen_spectra_data(input_param_table,doPlot=False,bandlist=[0,1,2,3,4,5,6,7,8,9,10,11,12]):\n",
        "  k = 1\n",
        "  #pd_train_traits=traits\n",
        "  #print(range(len(traits)))\n",
        "  for i in range(len(input_param_table)):\n",
        "\n",
        "    #edit this section accordingly\n",
        "    filepath = \"/content/drive/MyDrive/SENSECO_S2Data/S2_Responses_S2A.csv\"\n",
        "\n",
        "    #vegetation parametrs\n",
        "    cab_t = input_param_table[\"cab\"][i]\n",
        "    lai_t = input_param_table[\"lai\"][i]\n",
        "\n",
        "    #observation parameters\n",
        "    sol_zen_t = input_param_table[\"sol_zen\"][i]\n",
        "    inc_zen_t = input_param_table[\"inc_zen\"][i]\n",
        "    raa_t     = input_param_table[\"raa\"][i]\n",
        "\n",
        "    if k == 1:\n",
        "\n",
        "      tr_rho_s = custom_prosail(cab_t,lai_t,sol_zen_t,inc_zen_t,raa_t)\n",
        "      tr_rho_s = Prosail2S2(filepath,tr_rho_s)[bandlist,]\n",
        "\n",
        "      if doPlot == True:\n",
        "        x = bandlist\n",
        "        plt.plot ( x, tr_rho_s)\n",
        "        #plt.legend(loc='best')\n",
        "      \n",
        "    if k > 1:\n",
        "      tr_rho_t = custom_prosail(cab_t,lai_t,sol_zen_t,inc_zen_t,raa_t)\n",
        "      tr_rho_t = Prosail2S2(filepath,tr_rho_t)[bandlist,]\n",
        "      tr_rho_s = np.vstack((tr_rho_s,tr_rho_t))\n",
        "\n",
        "      if doPlot == True:\n",
        "        plt.plot ( x, tr_rho_t)\n",
        "\n",
        "    k = k+1\n",
        "\n",
        "  rho_samples=tr_rho_s\n",
        "  return rho_samples\n",
        "\n",
        "\n",
        "#generating a trait table is a bit tricky \n",
        "\n",
        "#First we generate a random matrix of values between 0 and 1\n",
        "#the input of the function is (N,M), N - number of columns, M - number of samples\n",
        "LHS_train = lhsmdu.createRandomStandardUniformMatrix(5,100)\n",
        "\n",
        "#then we convert this into a Pandas table and rename it\n",
        "pd_param_input = pd.DataFrame.transpose(pd.DataFrame(LHS_train))\n",
        "pd_param_input.columns = [\"cab\",\"lai\",\"sol_zen\",\"inc_zen\",\"raa\"]\n",
        "\n",
        "#now we can just plut it into a line betwene maximum and minimum \n",
        "#notice: dont use 0 or unresonably wrong input paramaters because that might cause NaN responses\n",
        "\n",
        "#pd_trait[\"cab\"]=pd_trait[\"cab\"]*max_cab+min_cab\n",
        "#vegetation parameters\n",
        "pd_param_input[\"cab\"]    =pd_param_input[\"cab\"]*80+20\n",
        "pd_param_input[\"lai\"]    =pd_param_input[\"lai\"]*6+1\n",
        "\n",
        "#observation parameters - for now very small and basic - it varies between 29 and 31\n",
        "pd_param_input[\"sol_zen\"]=pd_param_input[\"sol_zen\"]*2+29\n",
        "pd_param_input[\"inc_zen\"]=pd_param_input[\"inc_zen\"]*2+29\n",
        "pd_param_input[\"raa\"]    =pd_param_input[\"raa\"]*2+29\n",
        "\n",
        "#chcke the shape\n",
        "print(pd_param_input.shape)\n",
        "\n",
        "#test the function\n",
        "test_spectra = Gen_spectra_data(pd_param_input,doPlot=True)\n"
      ],
      "execution_count": null,
      "outputs": []
    },
    {
      "cell_type": "code",
      "metadata": {
        "id": "fUZ4Uj5muUbV"
      },
      "source": [
        "test_spectra = Gen_spectra_data(pd_param_input,doPlot=True,bandlist=[1,2,3,4,5,6,7,11,12])"
      ],
      "execution_count": null,
      "outputs": []
    },
    {
      "cell_type": "markdown",
      "metadata": {
        "id": "yMFJKf673ia-"
      },
      "source": [
        "#Additive noise\n",
        "\n",
        "This noise function simulates noise in function of the signal magnitude\n",
        "\n",
        "Adapted from equation 4: https://www.mdpi.com/2072-4292/7/8/10321/html#B31-remotesensing-07-10321\n",
        "\n"
      ]
    },
    {
      "cell_type": "code",
      "metadata": {
        "id": "oxZtw3093l-G"
      },
      "source": [
        "def combined_noise(ref,sigma):\n",
        "\n",
        "  #ref is an input vector and sigma is the standar deviation of the noise - there is a possibilityu of values going over over 1 or lower than 0 But those values are corrected in the end. \n",
        "  \n",
        "  mp_noise = ref*(1 + stats.truncnorm.rvs(0-sigma*4,0+sigma*4,loc=0,scale=sigma*2,size=ref.shape[0]))\n",
        "  ad_noise = 0+stats.truncnorm.rvs(0-sigma*2,0+sigma*2,loc=0,scale=sigma,size=ref.shape[0])\n",
        "  out_ref = mp_noise+ ad_noise\n",
        "\n",
        "  #making everything that goes under, be 0 or 1\n",
        "  out_ref[out_ref>1]=1\n",
        "  out_ref[out_ref<0]=0\n",
        "\n",
        "  return out_ref"
      ],
      "execution_count": 8,
      "outputs": []
    }
  ]
}