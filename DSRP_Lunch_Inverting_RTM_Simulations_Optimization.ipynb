{
  "nbformat": 4,
  "nbformat_minor": 0,
  "metadata": {
    "colab": {
      "name": "DSRP Lunch - Inverting RTM Simulations - Optimization.ipynb",
      "provenance": [],
      "collapsed_sections": [],
      "toc_visible": true,
      "authorship_tag": "ABX9TyOnH37X1xdzVcgkT+mPUPqD",
      "include_colab_link": true
    },
    "kernelspec": {
      "name": "python3",
      "display_name": "Python 3"
    }
  },
  "cells": [
    {
      "cell_type": "markdown",
      "metadata": {
        "id": "view-in-github",
        "colab_type": "text"
      },
      "source": [
        "<a href=\"https://colab.research.google.com/github/nunocesarsa/SENSECO_School_2021/blob/main/DSRP_Lunch_Inverting_RTM_Simulations_Optimization.ipynb\" target=\"_parent\"><img src=\"https://colab.research.google.com/assets/colab-badge.svg\" alt=\"Open In Colab\"/></a>"
      ]
    },
    {
      "cell_type": "code",
      "metadata": {
        "id": "wwtTA0mBPI7e",
        "colab": {
          "base_uri": "https://localhost:8080/",
          "height": 122
        },
        "outputId": "5d2236b3-77d1-47c7-9323-9d17f3919ccd"
      },
      "source": [
        "#mounting google drive\n",
        "from google.colab import drive\n",
        "drive.mount('/content/drive')\n"
      ],
      "execution_count": null,
      "outputs": [
        {
          "output_type": "stream",
          "text": [
            "Go to this URL in a browser: https://accounts.google.com/o/oauth2/auth?client_id=947318989803-6bn6qk8qdgf4n4g3pfee6491hc0brc4i.apps.googleusercontent.com&redirect_uri=urn%3aietf%3awg%3aoauth%3a2.0%3aoob&response_type=code&scope=email%20https%3a%2f%2fwww.googleapis.com%2fauth%2fdocs.test%20https%3a%2f%2fwww.googleapis.com%2fauth%2fdrive%20https%3a%2f%2fwww.googleapis.com%2fauth%2fdrive.photos.readonly%20https%3a%2f%2fwww.googleapis.com%2fauth%2fpeopleapi.readonly\n",
            "\n",
            "Enter your authorization code:\n",
            "··········\n",
            "Mounted at /content/drive\n"
          ],
          "name": "stdout"
        }
      ]
    },
    {
      "cell_type": "markdown",
      "metadata": {
        "id": "kpDkm85xOL6-"
      },
      "source": [
        "# Loading up general usage libraries"
      ]
    },
    {
      "cell_type": "code",
      "metadata": {
        "id": "226Zt5VkxvUD",
        "colab": {
          "base_uri": "https://localhost:8080/",
          "height": 1000
        },
        "outputId": "7e963203-a4cd-416b-c0b1-324a20727220"
      },
      "source": [
        "#Installing packages\n",
        "\n",
        "#Needed for step 1 - data generation\n",
        "\n",
        "#Installing PROSAIL\n",
        "!pip install prosail\n",
        "\n",
        "#latin hypercube stuff\n",
        "#lets try to do a LHS\n",
        "!pip install lhsmdu\n",
        "\n",
        "#this package as a number of functions to deal with hyperspectral data\n",
        "!pip install pysptools\n",
        "\n",
        "#this is the swarm optimization package\n",
        "!pip install --upgrade pyswarm\n",
        "\n",
        "#spotpy\n",
        "!pip install spotpy\n",
        "\n",
        "#bayesian optimization packages\n",
        "!pip install bayesian-optimization\n",
        "\n",
        "#genetic algorithsm\n",
        "!pip install sklearn-genetic"
      ],
      "execution_count": null,
      "outputs": [
        {
          "output_type": "stream",
          "text": [
            "Collecting prosail\n",
            "\u001b[?25l  Downloading https://files.pythonhosted.org/packages/b5/52/d0c15ab469e8c82bc76a6b6cd614efbc60e43d09d5bacaa349170d229e91/prosail-2.0.5-py3-none-any.whl (149kB)\n",
            "\r\u001b[K     |██▏                             | 10kB 19.8MB/s eta 0:00:01\r\u001b[K     |████▍                           | 20kB 3.2MB/s eta 0:00:01\r\u001b[K     |██████▋                         | 30kB 4.0MB/s eta 0:00:01\r\u001b[K     |████████▊                       | 40kB 3.0MB/s eta 0:00:01\r\u001b[K     |███████████                     | 51kB 3.4MB/s eta 0:00:01\r\u001b[K     |█████████████▏                  | 61kB 4.0MB/s eta 0:00:01\r\u001b[K     |███████████████▍                | 71kB 4.3MB/s eta 0:00:01\r\u001b[K     |█████████████████▌              | 81kB 4.4MB/s eta 0:00:01\r\u001b[K     |███████████████████▊            | 92kB 4.9MB/s eta 0:00:01\r\u001b[K     |██████████████████████          | 102kB 4.7MB/s eta 0:00:01\r\u001b[K     |████████████████████████▏       | 112kB 4.7MB/s eta 0:00:01\r\u001b[K     |██████████████████████████▎     | 122kB 4.7MB/s eta 0:00:01\r\u001b[K     |████████████████████████████▌   | 133kB 4.7MB/s eta 0:00:01\r\u001b[K     |██████████████████████████████▊ | 143kB 4.7MB/s eta 0:00:01\r\u001b[K     |████████████████████████████████| 153kB 4.7MB/s \n",
            "\u001b[?25hRequirement already satisfied: scipy in /usr/local/lib/python3.6/dist-packages (from prosail) (1.4.1)\n",
            "Requirement already satisfied: pytest in /usr/local/lib/python3.6/dist-packages (from prosail) (3.6.4)\n",
            "Requirement already satisfied: numpy in /usr/local/lib/python3.6/dist-packages (from prosail) (1.17.5)\n",
            "Requirement already satisfied: numba in /usr/local/lib/python3.6/dist-packages (from prosail) (0.47.0)\n",
            "Requirement already satisfied: atomicwrites>=1.0 in /usr/local/lib/python3.6/dist-packages (from pytest->prosail) (1.3.0)\n",
            "Requirement already satisfied: six>=1.10.0 in /usr/local/lib/python3.6/dist-packages (from pytest->prosail) (1.12.0)\n",
            "Requirement already satisfied: setuptools in /usr/local/lib/python3.6/dist-packages (from pytest->prosail) (45.1.0)\n",
            "Requirement already satisfied: attrs>=17.4.0 in /usr/local/lib/python3.6/dist-packages (from pytest->prosail) (19.3.0)\n",
            "Requirement already satisfied: pluggy<0.8,>=0.5 in /usr/local/lib/python3.6/dist-packages (from pytest->prosail) (0.7.1)\n",
            "Requirement already satisfied: more-itertools>=4.0.0 in /usr/local/lib/python3.6/dist-packages (from pytest->prosail) (8.2.0)\n",
            "Requirement already satisfied: py>=1.5.0 in /usr/local/lib/python3.6/dist-packages (from pytest->prosail) (1.8.1)\n",
            "Requirement already satisfied: llvmlite>=0.31.0dev0 in /usr/local/lib/python3.6/dist-packages (from numba->prosail) (0.31.0)\n",
            "Installing collected packages: prosail\n",
            "Successfully installed prosail-2.0.5\n",
            "Collecting lhsmdu\n",
            "  Downloading https://files.pythonhosted.org/packages/7b/f0/e714a4dae734bcd7228a09d74fff7dc5857dc3311cd72a3e07b09c85d088/lhsmdu-0.1-py3-none-any.whl\n",
            "Requirement already satisfied: scipy in /usr/local/lib/python3.6/dist-packages (from lhsmdu) (1.4.1)\n",
            "Requirement already satisfied: numpy in /usr/local/lib/python3.6/dist-packages (from lhsmdu) (1.17.5)\n",
            "Installing collected packages: lhsmdu\n",
            "Successfully installed lhsmdu-0.1\n",
            "Collecting pysptools\n",
            "\u001b[?25l  Downloading https://files.pythonhosted.org/packages/9b/20/cef48129eff2bdcb282279138c09e6f04770a8fdcb3c1bb9a98fe4086d2d/pysptools-0.15.0.tar.gz (8.1MB)\n",
            "\u001b[K     |████████████████████████████████| 8.1MB 4.4MB/s \n",
            "\u001b[?25hBuilding wheels for collected packages: pysptools\n",
            "  Building wheel for pysptools (setup.py) ... \u001b[?25l\u001b[?25hdone\n",
            "  Created wheel for pysptools: filename=pysptools-0.15.0-cp36-none-any.whl size=8133750 sha256=f68c64421d44d4a4bddbf611bc05a451d7b5377177df2db55a866b75ef2b5453\n",
            "  Stored in directory: /root/.cache/pip/wheels/bf/60/be/a6719d91bfa59135201feb034c7069e4146aa576fc0dc9e624\n",
            "Successfully built pysptools\n",
            "Installing collected packages: pysptools\n",
            "Successfully installed pysptools-0.15.0\n",
            "Collecting pyswarm\n",
            "  Downloading https://files.pythonhosted.org/packages/79/1e/254c108b5e65c65d57a83a9a448405ea8b6a6c5c10dada8bcab4e9d9a831/pyswarm-0.6.tar.gz\n",
            "Requirement already satisfied, skipping upgrade: numpy in /usr/local/lib/python3.6/dist-packages (from pyswarm) (1.17.5)\n",
            "Building wheels for collected packages: pyswarm\n",
            "  Building wheel for pyswarm (setup.py) ... \u001b[?25l\u001b[?25hdone\n",
            "  Created wheel for pyswarm: filename=pyswarm-0.6-cp36-none-any.whl size=4481 sha256=0e97efcb5ad67823f9aec49a59a63e4bc6cc24b2e14c73e708769af93058f544\n",
            "  Stored in directory: /root/.cache/pip/wheels/37/c5/f6/b33b9ac00040cb95c1f00af982a4197334a672d6de43f4699f\n",
            "Successfully built pyswarm\n",
            "Installing collected packages: pyswarm\n",
            "Successfully installed pyswarm-0.6\n",
            "Collecting spotpy\n",
            "\u001b[?25l  Downloading https://files.pythonhosted.org/packages/60/dd/db7c484b2150841655bc05954039428a390d36060dc85c27839b1a12fab7/spotpy-1.5.8-py3-none-any.whl (6.2MB)\n",
            "\u001b[K     |████████████████████████████████| 6.2MB 4.7MB/s \n",
            "\u001b[?25hInstalling collected packages: spotpy\n",
            "Successfully installed spotpy-1.5.8\n",
            "Collecting bayesian-optimization\n",
            "  Downloading https://files.pythonhosted.org/packages/72/0c/173ac467d0a53e33e41b521e4ceba74a8ac7c7873d7b857a8fbdca88302d/bayesian-optimization-1.0.1.tar.gz\n",
            "Requirement already satisfied: numpy>=1.9.0 in /usr/local/lib/python3.6/dist-packages (from bayesian-optimization) (1.17.5)\n",
            "Requirement already satisfied: scipy>=0.14.0 in /usr/local/lib/python3.6/dist-packages (from bayesian-optimization) (1.4.1)\n",
            "Requirement already satisfied: scikit-learn>=0.18.0 in /usr/local/lib/python3.6/dist-packages (from bayesian-optimization) (0.22.1)\n",
            "Requirement already satisfied: joblib>=0.11 in /usr/local/lib/python3.6/dist-packages (from scikit-learn>=0.18.0->bayesian-optimization) (0.14.1)\n",
            "Building wheels for collected packages: bayesian-optimization\n",
            "  Building wheel for bayesian-optimization (setup.py) ... \u001b[?25l\u001b[?25hdone\n",
            "  Created wheel for bayesian-optimization: filename=bayesian_optimization-1.0.1-cp36-none-any.whl size=10031 sha256=efa5d66ca110c1b60d791273a56189fb9a43221862e7e14e2edbc9ffeae03790\n",
            "  Stored in directory: /root/.cache/pip/wheels/1d/0d/3b/6b9d4477a34b3905f246ff4e7acf6aafd4cc9b77d473629b77\n",
            "Successfully built bayesian-optimization\n",
            "Installing collected packages: bayesian-optimization\n",
            "Successfully installed bayesian-optimization-1.0.1\n",
            "Collecting sklearn-genetic\n",
            "  Downloading https://files.pythonhosted.org/packages/25/a7/495e10b18fa87d8865fb768c7dc050bbc183bfbbc212f3e612423f74cd16/sklearn-genetic-0.2.tar.gz\n",
            "Requirement already satisfied: scikit-learn>=0.18 in /usr/local/lib/python3.6/dist-packages (from sklearn-genetic) (0.22.1)\n",
            "Collecting deap>=1.0.2\n",
            "\u001b[?25l  Downloading https://files.pythonhosted.org/packages/0a/eb/2bd0a32e3ce757fb26264765abbaedd6d4d3640d90219a513aeabd08ee2b/deap-1.3.1-cp36-cp36m-manylinux2010_x86_64.whl (157kB)\n",
            "\u001b[K     |████████████████████████████████| 163kB 7.3MB/s \n",
            "\u001b[?25hRequirement already satisfied: numpy>=1.11.0 in /usr/local/lib/python3.6/dist-packages (from scikit-learn>=0.18->sklearn-genetic) (1.17.5)\n",
            "Requirement already satisfied: scipy>=0.17.0 in /usr/local/lib/python3.6/dist-packages (from scikit-learn>=0.18->sklearn-genetic) (1.4.1)\n",
            "Requirement already satisfied: joblib>=0.11 in /usr/local/lib/python3.6/dist-packages (from scikit-learn>=0.18->sklearn-genetic) (0.14.1)\n",
            "Building wheels for collected packages: sklearn-genetic\n",
            "  Building wheel for sklearn-genetic (setup.py) ... \u001b[?25l\u001b[?25hdone\n",
            "  Created wheel for sklearn-genetic: filename=sklearn_genetic-0.2-py2.py3-none-any.whl size=6695 sha256=53581a5eac8935dc57ada95f6a7fa9e552a4b148b46ac53b80d80f2b6fd4823a\n",
            "  Stored in directory: /root/.cache/pip/wheels/e0/0d/a7/698bc5a79bdf76ad619116359c01dcc40298b8b275279fd826\n",
            "Successfully built sklearn-genetic\n",
            "Installing collected packages: deap, sklearn-genetic\n",
            "Successfully installed deap-1.3.1 sklearn-genetic-0.2\n"
          ],
          "name": "stdout"
        }
      ]
    },
    {
      "cell_type": "markdown",
      "metadata": {
        "id": "U26KEc7-Oqw7"
      },
      "source": [
        "Importing packages"
      ]
    },
    {
      "cell_type": "code",
      "metadata": {
        "id": "dH1gZah1Ootm"
      },
      "source": [
        "#importing packages\n",
        "\n",
        "#General purpose: \n",
        "import matplotlib.pyplot as plt\n",
        "import numpy\n",
        "import numpy as np\n",
        "from mpl_toolkits.mplot3d import Axes3D\n",
        "\n",
        "import pandas as pd\n",
        "\n",
        "#PROSPECT+SAIL Radiative transfer mode package\n",
        "import prosail\n",
        "\n",
        "#Sampling design package\n",
        "import lhsmdu\n",
        "\n",
        "#package to for operations on spectral data\n",
        "import pysptools as sptool \n",
        "from pysptools import distance"
      ],
      "execution_count": null,
      "outputs": []
    },
    {
      "cell_type": "markdown",
      "metadata": {
        "id": "8nJVQTB1OvyC"
      },
      "source": [
        "# Custom functions"
      ]
    },
    {
      "cell_type": "code",
      "metadata": {
        "id": "q1PbkFjlOuBz"
      },
      "source": [
        "#This function converts input hyperspectral data into S2 data using a weighted sum approach based on tables collected from ESA\n",
        "#https://earth.esa.int/web/sentinel/user-guides/sentinel-2-msi/document-library/-/asset_publisher/Wk0TKajiISaR/content/sentinel-2a-spectral-responses\n",
        "\n",
        "#in this case the tables are already uploaded to my own drive\n",
        "def Prosail2S2(path2csv,spectra_input):\n",
        "  #importing pandas\n",
        "  import pandas as pd\n",
        "  import numpy\n",
        "  import numpy as np\n",
        "  #upload a S2_Response.csv from https://earth.esa.int/web/sentinel/user-guides/sentinel-2-msi/document-library/-/asset_publisher/Wk0TKajiISaR/content/sentinel-2a-spectral-responses\n",
        "\n",
        "  s2_table = pd.read_csv(path2csv,sep=\";\",decimal=\",\") #check if this is proper, regarding the sep and dec\n",
        "\n",
        "  s2_table_sel = s2_table[s2_table['SR_WL'].between(400,2500)] #selects all values between 400 and 2500\n",
        "  spectra_input_df = pd.DataFrame(data=spectra_input,columns=[\"rho\"],index=s2_table_sel.index) #transforms the input array into a pandas df with the column name rho and row.index = to the original input table\n",
        "\n",
        "  \n",
        "  rho_s2 = s2_table_sel.multiply(spectra_input_df['rho'],axis=\"index\") #calculates the numerator\n",
        "  w_band_sum = s2_table_sel.sum(axis=0,skipna = True) #calculates the denominator\n",
        "\n",
        "  output = (rho_s2.sum(axis=0)/w_band_sum).rename_axis(\"ID\").values #runs the weighted mean and converts the output to a numpy array\n",
        "\n",
        "  #return output[1:] #removes the first value because it represents the wavelength column\n",
        "  #returns only the 9 20m sentinel 2 spectra bands\n",
        "  return output[1:]\n",
        "\n",
        "#loading the files - there are 2 types of Sentinel 2 satellites. A & B - so two files are necessary and this should be verified before\n",
        "\n",
        "##filepath=\"/content/S2_Responses_S2B.csv\"\n",
        "filepath=\"/content/drive/S2_Response.csv\"\n",
        "filepath=\"/content/drive/My Drive/S2_Response.csv\""
      ],
      "execution_count": null,
      "outputs": []
    },
    {
      "cell_type": "code",
      "metadata": {
        "id": "b14wOiGQT-yP",
        "colab": {
          "base_uri": "https://localhost:8080/",
          "height": 51
        },
        "outputId": "5cce21b2-97de-45bc-9db3-239f4c187ecf"
      },
      "source": [
        "#A custom function to call prosail\n",
        "def custom_prosail(cab,cw,cm,lai):\n",
        "  import prosail\n",
        "  #default parameters\n",
        "  n= 1.\n",
        "  car=10.\n",
        "  cbrown=0.01\n",
        "  typelidf=1 #this is the default option\n",
        "  lidfa = -1 #leaf angle distribution parameter a and b\n",
        "  lidfb=-0.15\n",
        "  hspot= 0.01 #hotspot parameters - got this from R package https://www.rdocumentation.org/packages/hsdar/versions/0.4.1/topics/PROSAIL\n",
        "  #sun and viewing angle\n",
        "  tts=30. #observation and solar position parameters\n",
        "  tto=10. \n",
        "  psi=0.\n",
        "  #for now i put them by hand but they should be an input of a custom function\n",
        "  #tts=sol_zen #solar zenith angle\n",
        "  #tto=inc_zen #sensor zenith angle\n",
        "  #psi=raa\n",
        "  rho_out = prosail.run_prosail(n,\n",
        "                                 cab,\n",
        "                                 car,\n",
        "                                 cbrown,\n",
        "                                 cw,\n",
        "                                 cm,\n",
        "                                 lai,\n",
        "                                 lidfa,\n",
        "                                 hspot,\n",
        "                                 tts,tto,psi,\n",
        "                                 typelidf, lidfb,\n",
        "                                 prospect_version=\"D\",\n",
        "                                 factor='SDR', \n",
        "                                 rsoil=.5, psoil=.5)\n",
        "  return(rho_out)\n",
        "\n",
        "#test call:\n",
        "#prosail.run_prosail()\n",
        "print(custom_prosail(40,.005,.005,2).shape)\n",
        "print(Prosail2S2(filepath,custom_prosail(40,.005,.005,2)).shape)\n",
        "\n"
      ],
      "execution_count": null,
      "outputs": [
        {
          "output_type": "stream",
          "text": [
            "(2101,)\n",
            "(13,)\n"
          ],
          "name": "stdout"
        }
      ]
    },
    {
      "cell_type": "code",
      "metadata": {
        "id": "LKsr8WjdVBeA"
      },
      "source": [
        "#this is jut a simple function to iterate over a table of traits\n",
        "def Gen_spectra_data(traits):\n",
        "  k = 1\n",
        "  #pd_train_traits=traits\n",
        "  #print(range(len(traits)))\n",
        "  for i in range(len(traits)):\n",
        "    #n_t = pd_train_traits[\"n\"][i]\n",
        "    cab_t = traits[\"cab\"][i]\n",
        "    #car_t = pd_train_traits[\"car\"][i]\n",
        "    #cbrown_t = pd_train_traits[\"cbrown\"][i]\n",
        "    cw_t = traits[\"cw\"][i]\n",
        "    cm_t = traits[\"cm\"][i]\n",
        "    lai_t = traits[\"lai\"][i]\n",
        "\n",
        "    if k == 1:\n",
        "      tr_rho_s = custom_prosail(cab_t,cw_t,cm_t,lai_t)\n",
        "      tr_rho_s = Prosail2S2(filepath,tr_rho_s)\n",
        "      #plt.plot ( x, tr_rho_s, ':', label=\"Training prosail\")\n",
        "      #plt.legend(loc='best')\n",
        "      \n",
        "    if k > 1:\n",
        "      tr_rho_t = custom_prosail(cab_t,cw_t,cm_t,lai_t)\n",
        "      tr_rho_t = Prosail2S2(filepath,tr_rho_t)\n",
        "      tr_rho_s = np.vstack((tr_rho_s,tr_rho_t))\n",
        "      #plt.plot ( x, tr_rho_t, ':')\n",
        "\n",
        "    k = k+1\n",
        "\n",
        "\n",
        "  rho_samples=tr_rho_s\n",
        "\n",
        "\n",
        "  return rho_samples\n"
      ],
      "execution_count": null,
      "outputs": []
    },
    {
      "cell_type": "markdown",
      "metadata": {
        "id": "EvWd8xNSb3Uh"
      },
      "source": [
        "# Cost function\n",
        "\n",
        "Here we use pysptools packages which has some inbuilt spectral differences functions. But anything that minimizes to 0 could be used here. "
      ]
    },
    {
      "cell_type": "code",
      "metadata": {
        "id": "uPbTVCUnVNlE"
      },
      "source": [
        "#expected inputs:\n",
        "#x is a vector of the traits\n",
        "#rho_s2 is the target spectra already ressampled to s2 data\n",
        "def cost_spectra_sentinel(x, rho_s2):\n",
        "  import pysptools as sptool\n",
        "  \n",
        "  #cost function can be easily editable here, all it is needed is to add\n",
        "  #interactions between the various spectral differences methods on the return\n",
        "  #cab,car,cw,cm,lai  = x\n",
        "  cab,cw,cm,lai = x\n",
        "\n",
        "  #sim_canopy = custom_prosail(cab,car,cw,cm,lai)\n",
        "  sim_canopy = custom_prosail(cab,cw,cm,lai)\n",
        "  sim_canopy = Prosail2S2(filepath,sim_canopy)\n",
        "    #print(sim_canopy)\n",
        "    #print(sim_canopy.shape)\n",
        "    #print(sim_canopy[[1,2,3,4,5,6,8,11,12],])\n",
        "  sim_canopy = sim_canopy[[1,2,3,4,5,6,8,11,12],]\n",
        "\n",
        "#    wavel               = np.array(range(400,2501,1))\n",
        "#    rho_canopy1         = np.array([np.transpose(wavel), rho])\n",
        "#    sim_canopy1         = np.array([np.transpose(wavel), sim_canopy])\n",
        "  samerror            = sptool.distance.SAM(rho_s2,sim_canopy) \n",
        "#    samerror            = sptool.distance.SID(rho,sim_canopy)\n",
        "#    samerror            = sptool.distance.chebyshev(rho,sim_canopy)\n",
        "#    samerror            = sptool.distance.SAM(rho,sim_canopy) + (sptool.distance.SID(rho,sim_canopy)/2) + (sptool.distance.chebyshev(rho,sim_canopy)/2)\n",
        "#    samerror            = sptool.distance.SAM(rho[0:1000],sim_canopy[0:1000])# + (sptool.distance.SAM(rho[1000:2101],sim_canopy[1000:2101])*10)\n",
        "\n",
        "  return samerror\n"
      ],
      "execution_count": null,
      "outputs": []
    },
    {
      "cell_type": "markdown",
      "metadata": {
        "id": "4GRIbrGEdv_6"
      },
      "source": [
        "# Optimization time\n",
        "\n",
        "\n",
        "Links of interest:\n",
        "[scipy optimize functions](https://docs.scipy.org/doc/scipy-1.0.0/reference/generated/scipy.optimize.minimize.html)\n"
      ]
    },
    {
      "cell_type": "code",
      "metadata": {
        "id": "wm7ULx8OjduY"
      },
      "source": [
        "from scipy.optimize import minimize"
      ],
      "execution_count": null,
      "outputs": []
    },
    {
      "cell_type": "code",
      "metadata": {
        "id": "gs45IZZ-f9tA"
      },
      "source": [
        "#Setting up the trait space\n",
        "\n",
        "#maxmins from here also: https://github.com/jgomezdans/prosail/issues/10\n",
        "#max_n=1 #this value should go from 1 to 2, so i make it change from 0 to 1 here and then add 1 later\n",
        "max_cab=90. #add 1\n",
        "#max_car=44. #add 1\n",
        "#max_cbrown= 9.99 #add 0.01\n",
        "max_cw=0.004 #0.008 #add 0.001 \n",
        "max_cm=0.004 #0.008 #0.001\n",
        "max_lai = 7 #add 0.1\n",
        "\n",
        "min_cab = 10.\n",
        "min_cw = 0.001\n",
        "min_cm = 0.001\n",
        "min_lai = .5\n",
        "\n",
        "#initial conditions for the optimization modules\n",
        "\n",
        "#init prosail parameters - somwhere halfway\n",
        "init_cab = (max_cab+min_cab)*.5\n",
        "init_cw  = (max_cw+min_cw)*.5\n",
        "init_cm  = (max_cm+min_cm)*.5\n",
        "init_lai = (max_lai+min_lai)*.5\n",
        "\n",
        "#initial settings\n",
        "init_trait =  [init_cab,init_cw,init_cm,init_lai]\n",
        "init_rho =  custom_prosail(init_cab,init_cw,init_cm,init_lai)\n",
        "init_rho_s2= Prosail2S2(filepath,init_rho)\n",
        "\n",
        "#boundary conditions\n",
        "lb = [min_cab,min_cw,min_cm,min_lai]\n",
        "ub = [max_cab,max_cw,max_cm,max_lai]\n",
        "bnds = [lb,ub]\n",
        "bnds2 = ((min_cab,max_cab),(min_cw,max_cw),(min_cm,max_cm),(min_lai,max_lai))"
      ],
      "execution_count": null,
      "outputs": []
    },
    {
      "cell_type": "markdown",
      "metadata": {
        "id": "3ONIREyKhcq2"
      },
      "source": [
        "Here we create a table of n data that we will use for testing our optimizations\n"
      ]
    },
    {
      "cell_type": "code",
      "metadata": {
        "id": "Yxks63-4h4vN"
      },
      "source": [
        "#number of samples\n",
        "train_n3000 = 50\n",
        "n_traits=4 #I will test on 4 varying traits: cab, car, cw,cm,lai"
      ],
      "execution_count": null,
      "outputs": []
    },
    {
      "cell_type": "code",
      "metadata": {
        "id": "5cOEUXlSfTji",
        "colab": {
          "base_uri": "https://localhost:8080/",
          "height": 918
        },
        "outputId": "567226f2-a168-4aaf-ab8b-a3fde49a30fd"
      },
      "source": [
        "#generating a LHS hypercube (it uses a 0 to 1 interval that can be used as a multiplier against the different traits)\n",
        "np.random.seed(0)\n",
        "LHS_train3000 = lhsmdu.createRandomStandardUniformMatrix(n_traits,train_n3000 ) #the package has a more advanced method but it is too slow to process\n",
        "\n",
        "#Finally creating a table here\n",
        "pd_traits3000 = pd.DataFrame.transpose(pd.DataFrame(LHS_train3000))\n",
        "pd_traits3000.columns = [\"cab\",\"cw\",\"cm\",\"lai\"]\n",
        "\n",
        "pd_traits3000[\"cab\"]=pd_traits3000[\"cab\"]*max_cab+min_cab\n",
        "pd_traits3000[\"cw\"] =pd_traits3000[\"cw\"] *max_cw +min_cw\n",
        "pd_traits3000[\"cm\"] =pd_traits3000[\"cm\"] *max_cm +min_cm\n",
        "pd_traits3000[\"lai\"]=pd_traits3000[\"lai\"]*max_lai+min_lai\n",
        "\n",
        "\n",
        "\n",
        "\n",
        "np_spectra3000 = Gen_spectra_data(pd_traits3000) #this are the spectra\n",
        "\n",
        "print(pd_traits3000)\n",
        "print(np_spectra3000.shape)\n",
        "\n",
        "np_optim_spectr=np_spectra3000[:,[1,2,3,4,5,6,8,11,12]] #selects only the bands of interest\n",
        "print(np_optim_spectr.shape)"
      ],
      "execution_count": null,
      "outputs": [
        {
          "output_type": "stream",
          "text": [
            "          cab        cw        cm       lai\n",
            "0   59.393215  0.003281  0.003711  1.546138\n",
            "1   74.367043  0.002754  0.002080  6.576882\n",
            "2   64.248704  0.004953  0.003941  1.637451\n",
            "3   59.039486  0.001408  0.004849  4.808917\n",
            "4   48.128932  0.001836  0.001995  1.366740\n",
            "5   68.130470  0.001645  0.003305  6.436058\n",
            "6   49.382849  0.003612  0.003368  6.151233\n",
            "7   90.259570  0.002013  0.003289  4.483705\n",
            "8   96.729648  0.002865  0.001892  3.350283\n",
            "9   44.509737  0.001978  0.004811  0.984169\n",
            "10  81.255253  0.001636  0.002789  5.382001\n",
            "11  57.600543  0.001442  0.004386  3.674799\n",
            "12  61.124010  0.003625  0.003798  5.554389\n",
            "13  93.303697  0.001553  0.002190  6.564676\n",
            "14  16.393245  0.001786  0.004255  7.328651\n",
            "15  17.841637  0.002475  0.002586  6.490623\n",
            "16  11.819656  0.004284  0.004524  0.581999\n",
            "17  84.935786  0.001388  0.003325  3.019846\n",
            "18  80.034108  0.004352  0.004527  5.609934\n",
            "19  88.301093  0.001384  0.003770  1.701408\n",
            "20  98.075651  0.004906  0.003901  4.147256\n",
            "21  81.924271  0.002875  0.003005  0.880366\n",
            "22  51.533143  0.004907  0.004824  1.899976\n",
            "23  80.247626  0.003419  0.003576  0.629653\n",
            "24  20.644698  0.003957  0.002695  6.055884\n",
            "25  67.592892  0.001157  0.003426  2.067473\n",
            "26  22.901796  0.002131  0.001077  2.917462\n",
            "27  95.020203  0.001481  0.002206  6.996569\n",
            "28  56.966349  0.002185  0.003641  5.430901\n",
            "29  47.319575  0.001475  0.002160  0.722873\n",
            "30  33.810005  0.002272  0.003472  1.652859\n",
            "31  79.681032  0.002657  0.002715  4.850349\n",
            "32  51.053530  0.001257  0.001542  4.540600\n",
            "33  61.159055  0.003770  0.002193  2.165250\n",
            "34  11.691082  0.003266  0.003280  7.039498\n",
            "35  65.587195  0.002062  0.003363  4.797762\n",
            "36  65.088615  0.003093  0.003297  4.249430\n",
            "37  65.524060  0.001376  0.003613  4.629370\n",
            "38  94.937327  0.003304  0.003608  5.610854\n",
            "39  71.363827  0.004717  0.002726  2.683615\n",
            "40  42.355711  0.002274  0.004586  3.287547\n",
            "41  49.332876  0.003670  0.002470  1.968906\n",
            "42  72.786808  0.001527  0.002743  1.803351\n",
            "43  15.420292  0.003865  0.004568  7.110607\n",
            "44  70.009004  0.002158  0.004225  5.676856\n",
            "45  70.357408  0.001733  0.003816  3.933212\n",
            "46  28.934430  0.003346  0.001401  2.091902\n",
            "47  21.603367  0.001080  0.004678  2.280495\n",
            "48  38.388552  0.004316  0.003857  0.906204\n",
            "49  42.733969  0.001019  0.004995  3.540916\n",
            "(50, 13)\n",
            "(50, 9)\n"
          ],
          "name": "stdout"
        }
      ]
    },
    {
      "cell_type": "code",
      "metadata": {
        "id": "p-JQMumRlsXS"
      },
      "source": [
        "#Setting the default options for the minimizations packages\n",
        "\n",
        "shared_opt = {'eps': 0.0001,'disp': True, 'maxiter':500}\n",
        "\n",
        "#test spectra\n",
        "test_spectra = np_optim_spectr[0,:]\n",
        "test_trait = [init_cab,init_cw,init_cm,init_lai]"
      ],
      "execution_count": null,
      "outputs": []
    },
    {
      "cell_type": "markdown",
      "metadata": {
        "id": "OH1KmtWtikqI"
      },
      "source": [
        "# L-BFGS-B"
      ]
    },
    {
      "cell_type": "code",
      "metadata": {
        "id": "wSXpoIpTfkmq",
        "colab": {
          "base_uri": "https://localhost:8080/",
          "height": 187
        },
        "outputId": "dadeba8b-5329-4630-d5a2-b60ddc4cd3a4"
      },
      "source": [
        "#testing all the functions\n",
        "\n",
        "\n",
        "\n",
        "\n",
        "print(\"initial cost:\", cost_spectra_sentinel(test_trait,test_spectra))\n",
        "\n",
        "#testing the minimization\n",
        "minimize(cost_spectra_sentinel,test_trait,args=(test_spectra),\n",
        "                       bounds=bnds2,\n",
        "                       method=\"L-BFGS-B\",options=shared_opt)\n",
        "\n",
        "\n",
        "\n"
      ],
      "execution_count": null,
      "outputs": [
        {
          "output_type": "stream",
          "text": [
            "initial cost: 0.04127172572769029\n"
          ],
          "name": "stdout"
        },
        {
          "output_type": "execute_result",
          "data": {
            "text/plain": [
              "      fun: 0.029458077213666063\n",
              " hess_inv: <4x4 LbfgsInvHessProduct with dtype=float64>\n",
              "      jac: array([2.01124114e-03, 3.78221089e+00, 8.01183749e-01, 1.14383186e-02])\n",
              "  message: b'ABNORMAL_TERMINATION_IN_LNSRCH'\n",
              "     nfev: 230\n",
              "      nit: 4\n",
              "   status: 2\n",
              "  success: False\n",
              "        x: array([4.99999275e+01, 1.00000000e-03, 4.00000000e-03, 3.74907401e+00])"
            ]
          },
          "metadata": {
            "tags": []
          },
          "execution_count": 18
        }
      ]
    },
    {
      "cell_type": "code",
      "metadata": {
        "id": "cfwnw49Rh6VU",
        "colab": {
          "base_uri": "https://localhost:8080/",
          "height": 867
        },
        "outputId": "d8cca3cf-fab6-4295-a939-f6b190ddfdd4"
      },
      "source": [
        "#making the loop\n",
        "k=1\n",
        "for i in range(train_n3000):\n",
        "  print(\"running row nr:\",k) #uncomment if you want to keep track of what is going on\n",
        "  if k == 1:\n",
        "    optim_lbfgs = minimize(cost_spectra_sentinel,init_trait,args=(np_optim_spectr[i,:]),\n",
        "                       bounds=bnds2,\n",
        "                       method=\"L-BFGS-B\",options=shared_opt)\n",
        "    np_lbfgs=optim_lbfgs.x\n",
        "  if k > 1:\n",
        "    optim_lbfgs = minimize(cost_spectra_sentinel,init_trait,args=(np_optim_spectr[i,:]),\n",
        "                       bounds=bnds2,\n",
        "                       method=\"L-BFGS-B\",options=shared_opt)\n",
        "    np_lbfgs=numpy.vstack((np_lbfgs,optim_lbfgs.x))\n",
        "\n",
        "  k = k+1"
      ],
      "execution_count": null,
      "outputs": [
        {
          "output_type": "stream",
          "text": [
            "running row nr: 1\n",
            "running row nr: 2\n",
            "running row nr: 3\n",
            "running row nr: 4\n",
            "running row nr: 5\n",
            "running row nr: 6\n",
            "running row nr: 7\n",
            "running row nr: 8\n",
            "running row nr: 9\n",
            "running row nr: 10\n",
            "running row nr: 11\n",
            "running row nr: 12\n",
            "running row nr: 13\n",
            "running row nr: 14\n",
            "running row nr: 15\n",
            "running row nr: 16\n",
            "running row nr: 17\n",
            "running row nr: 18\n",
            "running row nr: 19\n",
            "running row nr: 20\n",
            "running row nr: 21\n",
            "running row nr: 22\n",
            "running row nr: 23\n",
            "running row nr: 24\n",
            "running row nr: 25\n",
            "running row nr: 26\n",
            "running row nr: 27\n",
            "running row nr: 28\n",
            "running row nr: 29\n",
            "running row nr: 30\n",
            "running row nr: 31\n",
            "running row nr: 32\n",
            "running row nr: 33\n",
            "running row nr: 34\n",
            "running row nr: 35\n",
            "running row nr: 36\n",
            "running row nr: 37\n",
            "running row nr: 38\n",
            "running row nr: 39\n",
            "running row nr: 40\n",
            "running row nr: 41\n",
            "running row nr: 42\n",
            "running row nr: 43\n",
            "running row nr: 44\n",
            "running row nr: 45\n",
            "running row nr: 46\n",
            "running row nr: 47\n",
            "running row nr: 48\n",
            "running row nr: 49\n",
            "running row nr: 50\n"
          ],
          "name": "stdout"
        }
      ]
    },
    {
      "cell_type": "code",
      "metadata": {
        "id": "QQweiL3ckVH3",
        "colab": {
          "base_uri": "https://localhost:8080/",
          "height": 325
        },
        "outputId": "be88eedb-6821-4686-e0e0-8b3b5702338b"
      },
      "source": [
        "#quick visual check \n",
        "\n",
        "fig, axs = plt.subplots(2,2)\n",
        "fig.suptitle('L-BFGS-B')\n",
        "fig.subplots_adjust(wspace=.5,hspace=.5)\n",
        "\n",
        "#plt.subplot(3,1,1)\n",
        "axs[0,0].plot(pd_traits3000[\"cab\"],np_lbfgs[:,0],\"o\",label=\"cab\")\n",
        "axs[0,0].legend(loc=\"best\")\n",
        "#axs[0,0].set_xlabel(\"Reference\")\n",
        "\n",
        "axs[0,1].plot(pd_traits3000[\"cw\"],np_lbfgs[:,1],\"o\",label=\"cw\")\n",
        "axs[0,1].legend(loc=\"best\")\n",
        "#axs[1].set_ylabel(\"Prediction\")\n",
        "\n",
        "axs[1,0].plot(pd_traits3000[\"cm\"],np_lbfgs[:,2],\"o\",label=\"cm\")\n",
        "axs[1,0].legend(loc=\"best\")\n",
        "axs[1,0].set_xlabel(\"Reference\")\n",
        "#axs[2].set_ylabel(\"Prediction\")\n",
        "\n",
        "axs[1,1].plot(pd_traits3000[\"lai\"],np_lbfgs[:,3],\"o\",label=\"lai\")\n",
        "axs[1,1].legend(loc=\"best\")\n",
        "axs[1,1].set_xlabel(\"Reference\")\n",
        "#axs[3].set_ylabel(\"Prediction\")\n"
      ],
      "execution_count": null,
      "outputs": [
        {
          "output_type": "execute_result",
          "data": {
            "text/plain": [
              "Text(0.5, 0, 'Reference')"
            ]
          },
          "metadata": {
            "tags": []
          },
          "execution_count": 87
        },
        {
          "output_type": "display_data",
          "data": {
            "image/png": "[encoded data removed]",
            "text/plain": [
              "<Figure size 432x288 with 4 Axes>"
            ]
          },
          "metadata": {
            "tags": []
          }
        }
      ]
    },
    {
      "cell_type": "markdown",
      "metadata": {
        "id": "qWcVU4VIlIHC"
      },
      "source": [
        "#SLSQP\n",
        "\n",
        "Sequential Leaste SQuares PRogramming"
      ]
    },
    {
      "cell_type": "code",
      "metadata": {
        "id": "7xm3kaXClHhs",
        "colab": {
          "base_uri": "https://localhost:8080/",
          "height": 255
        },
        "outputId": "17bd4b47-7ed9-4f7f-d4d1-907e3dc3d5d9"
      },
      "source": [
        "#For one iteration\n",
        "\n",
        "minimize(cost_spectra_sentinel,test_trait,args=(test_spectra),\n",
        "                       bounds=bnds2,\n",
        "                       method=\"SLSQP\",options=shared_opt)\n"
      ],
      "execution_count": null,
      "outputs": [
        {
          "output_type": "stream",
          "text": [
            "Optimization terminated successfully.    (Exit mode 0)\n",
            "            Current function value: 0.009025260622948629\n",
            "            Iterations: 9\n",
            "            Function evaluations: 72\n",
            "            Gradient evaluations: 9\n"
          ],
          "name": "stdout"
        },
        {
          "output_type": "execute_result",
          "data": {
            "text/plain": [
              "     fun: 0.009025260622948629\n",
              "     jac: array([-4.66683637e-04,  4.13946625e+00,  2.49757493e+00,  2.41863103e-03])\n",
              " message: 'Optimization terminated successfully.'\n",
              "    nfev: 72\n",
              "     nit: 9\n",
              "    njev: 9\n",
              "  status: 0\n",
              " success: True\n",
              "       x: array([4.98711947e+01, 2.09598328e-03, 3.79328884e-03, 2.13810477e+00])"
            ]
          },
          "metadata": {
            "tags": []
          },
          "execution_count": 88
        }
      ]
    },
    {
      "cell_type": "code",
      "metadata": {
        "id": "wWaIxpvNlkCN",
        "colab": {
          "base_uri": "https://localhost:8080/",
          "height": 1000
        },
        "outputId": "2969ec56-f353-4085-a46b-a8ef9ed53dfa"
      },
      "source": [
        "#making the loop\n",
        "k=1\n",
        "for i in range(train_n3000):\n",
        "  print(\"running row nr:\",k) #uncomment if you want to keep track of what is going on\n",
        "  if k == 1:\n",
        "    optim_slsqp = minimize(cost_spectra_sentinel,init_trait,args=(np_optim_spectr[i,:]),\n",
        "                       bounds=bnds2,\n",
        "                       method=\"SLSQP\",options=shared_opt)\n",
        "    np_slsqp=optim_slsqp.x\n",
        "  if k > 1:\n",
        "    optim_slsqp = minimize(cost_spectra_sentinel,init_trait,args=(np_optim_spectr[i,:]),\n",
        "                       bounds=bnds2,\n",
        "                       method=\"SLSQP\",options=shared_opt)\n",
        "    np_slsqp=numpy.vstack((np_slsqp,optim_slsqp.x))\n",
        "\n",
        "  k = k+1"
      ],
      "execution_count": null,
      "outputs": [
        {
          "output_type": "stream",
          "text": [
            "running row nr: 1\n",
            "Optimization terminated successfully.    (Exit mode 0)\n",
            "            Current function value: 0.009025260622948629\n",
            "            Iterations: 9\n",
            "            Function evaluations: 72\n",
            "            Gradient evaluations: 9\n",
            "running row nr: 2\n",
            "Optimization terminated successfully.    (Exit mode 0)\n",
            "            Current function value: 0.04143499722061002\n",
            "            Iterations: 6\n",
            "            Function evaluations: 48\n",
            "            Gradient evaluations: 6\n",
            "running row nr: 3\n",
            "Optimization terminated successfully.    (Exit mode 0)\n",
            "            Current function value: 0.011021074262779488\n",
            "            Iterations: 10\n",
            "            Function evaluations: 76\n",
            "            Gradient evaluations: 10\n",
            "running row nr: 4\n",
            "Optimization terminated successfully.    (Exit mode 0)\n",
            "            Current function value: 0.010265702401175098\n",
            "            Iterations: 9\n",
            "            Function evaluations: 68\n",
            "            Gradient evaluations: 9\n",
            "running row nr: 5\n",
            "Optimization terminated successfully.    (Exit mode 0)\n",
            "            Current function value: 0.0026383442168526425\n",
            "            Iterations: 14\n",
            "            Function evaluations: 100\n",
            "            Gradient evaluations: 13\n",
            "running row nr: 6\n",
            "Optimization terminated successfully.    (Exit mode 0)\n",
            "            Current function value: 0.03008361877542997\n",
            "            Iterations: 8\n",
            "            Function evaluations: 63\n",
            "            Gradient evaluations: 8\n",
            "running row nr: 7\n",
            "Optimization terminated successfully.    (Exit mode 0)\n",
            "            Current function value: 0.001753675183126275\n",
            "            Iterations: 7\n",
            "            Function evaluations: 58\n",
            "            Gradient evaluations: 7\n",
            "running row nr: 8\n",
            "Optimization terminated successfully.    (Exit mode 0)\n",
            "            Current function value: 0.048820014295389305\n",
            "            Iterations: 8\n",
            "            Function evaluations: 61\n",
            "            Gradient evaluations: 8\n",
            "running row nr: 9\n",
            "Optimization terminated successfully.    (Exit mode 0)\n",
            "            Current function value: 0.041472770793694415\n",
            "            Iterations: 7\n",
            "            Function evaluations: 55\n",
            "            Gradient evaluations: 7\n",
            "running row nr: 10\n",
            "Optimization terminated successfully.    (Exit mode 0)\n",
            "            Current function value: 0.009122256756942622\n",
            "            Iterations: 15\n",
            "            Function evaluations: 108\n",
            "            Gradient evaluations: 15\n",
            "running row nr: 11\n",
            "Optimization terminated successfully.    (Exit mode 0)\n",
            "            Current function value: 0.04317421762071135\n",
            "            Iterations: 8\n",
            "            Function evaluations: 63\n",
            "            Gradient evaluations: 8\n",
            "running row nr: 12\n",
            "Optimization terminated successfully.    (Exit mode 0)\n",
            "            Current function value: 0.005681093364507006\n",
            "            Iterations: 9\n",
            "            Function evaluations: 69\n",
            "            Gradient evaluations: 9\n",
            "running row nr: 13\n",
            "Optimization terminated successfully.    (Exit mode 0)\n",
            "            Current function value: 0.015412616411892024\n",
            "            Iterations: 9\n",
            "            Function evaluations: 68\n",
            "            Gradient evaluations: 9\n",
            "running row nr: 14\n",
            "Optimization terminated successfully.    (Exit mode 0)\n",
            "            Current function value: 0.06722693647148624\n",
            "            Iterations: 7\n",
            "            Function evaluations: 54\n",
            "            Gradient evaluations: 7\n",
            "running row nr: 15\n",
            "Optimization terminated successfully.    (Exit mode 0)\n",
            "            Current function value: 0.004438600323611852\n",
            "            Iterations: 24\n",
            "            Function evaluations: 162\n",
            "            Gradient evaluations: 24\n",
            "running row nr: 16\n",
            "Optimization terminated successfully.    (Exit mode 0)\n",
            "            Current function value: 0.0016845654424841306\n",
            "            Iterations: 33\n",
            "            Function evaluations: 225\n",
            "            Gradient evaluations: 33\n",
            "running row nr: 17\n",
            "Optimization terminated successfully.    (Exit mode 0)\n",
            "            Current function value: 0.005143780570840653\n",
            "            Iterations: 23\n",
            "            Function evaluations: 144\n",
            "            Gradient evaluations: 23\n",
            "running row nr: 18\n",
            "Optimization terminated successfully.    (Exit mode 0)\n",
            "            Current function value: 0.028006375444205707\n",
            "            Iterations: 10\n",
            "            Function evaluations: 77\n",
            "            Gradient evaluations: 10\n",
            "running row nr: 19\n",
            "Optimization terminated successfully.    (Exit mode 0)\n",
            "            Current function value: 0.007537926367765578\n",
            "            Iterations: 14\n",
            "            Function evaluations: 85\n",
            "            Gradient evaluations: 14\n",
            "running row nr: 20\n",
            "Optimization terminated successfully.    (Exit mode 0)\n",
            "            Current function value: 0.02429158741345362\n",
            "            Iterations: 7\n",
            "            Function evaluations: 54\n",
            "            Gradient evaluations: 7\n",
            "running row nr: 21\n",
            "Optimization terminated successfully.    (Exit mode 0)\n",
            "            Current function value: 0.004707272196004047\n",
            "            Iterations: 21\n",
            "            Function evaluations: 143\n",
            "            Gradient evaluations: 21\n",
            "running row nr: 22\n",
            "Optimization terminated successfully.    (Exit mode 0)\n",
            "            Current function value: 0.034847067303718594\n",
            "            Iterations: 16\n",
            "            Function evaluations: 114\n",
            "            Gradient evaluations: 16\n",
            "running row nr: 23\n",
            "Optimization terminated successfully.    (Exit mode 0)\n",
            "            Current function value: 0.008034914838395364\n",
            "            Iterations: 19\n",
            "            Function evaluations: 126\n",
            "            Gradient evaluations: 19\n",
            "running row nr: 24\n",
            "Optimization terminated successfully.    (Exit mode 0)\n",
            "            Current function value: 0.033923596313361\n",
            "            Iterations: 13\n",
            "            Function evaluations: 92\n",
            "            Gradient evaluations: 13\n",
            "running row nr: 25\n",
            "Optimization terminated successfully.    (Exit mode 0)\n",
            "            Current function value: 0.0012543916615147999\n",
            "            Iterations: 20\n",
            "            Function evaluations: 145\n",
            "            Gradient evaluations: 20\n",
            "running row nr: 26\n",
            "Optimization terminated successfully.    (Exit mode 0)\n",
            "            Current function value: 0.013288513635662452\n",
            "            Iterations: 7\n",
            "            Function evaluations: 54\n",
            "            Gradient evaluations: 7\n",
            "running row nr: 27\n",
            "Optimization terminated successfully.    (Exit mode 0)\n",
            "            Current function value: 0.04538268897068921\n",
            "            Iterations: 13\n",
            "            Function evaluations: 90\n",
            "            Gradient evaluations: 13\n",
            "running row nr: 28\n",
            "Optimization terminated successfully.    (Exit mode 0)\n",
            "            Current function value: 0.07162148881460008\n",
            "            Iterations: 7\n",
            "            Function evaluations: 54\n",
            "            Gradient evaluations: 7\n",
            "running row nr: 29\n",
            "Optimization terminated successfully.    (Exit mode 0)\n",
            "            Current function value: 0.007719340971430024\n",
            "            Iterations: 9\n",
            "            Function evaluations: 72\n",
            "            Gradient evaluations: 9\n",
            "running row nr: 30\n",
            "Optimization terminated successfully.    (Exit mode 0)\n",
            "            Current function value: 0.0038381944083650584\n",
            "            Iterations: 11\n",
            "            Function evaluations: 86\n",
            "            Gradient evaluations: 11\n",
            "running row nr: 31\n",
            "Optimization terminated successfully.    (Exit mode 0)\n",
            "            Current function value: 0.02048500714335659\n",
            "            Iterations: 15\n",
            "            Function evaluations: 110\n",
            "            Gradient evaluations: 15\n",
            "running row nr: 32\n",
            "Optimization terminated successfully.    (Exit mode 0)\n",
            "            Current function value: 0.03787802066867875\n",
            "            Iterations: 8\n",
            "            Function evaluations: 62\n",
            "            Gradient evaluations: 8\n",
            "running row nr: 33\n",
            "Optimization terminated successfully.    (Exit mode 0)\n",
            "            Current function value: 0.0022649154585805942\n",
            "            Iterations: 9\n",
            "            Function evaluations: 73\n",
            "            Gradient evaluations: 9\n",
            "running row nr: 34\n",
            "Optimization terminated successfully.    (Exit mode 0)\n",
            "            Current function value: 0.0070019500016542495\n",
            "            Iterations: 5\n",
            "            Function evaluations: 48\n",
            "            Gradient evaluations: 5\n",
            "running row nr: 35\n",
            "Optimization terminated successfully.    (Exit mode 0)\n",
            "            Current function value: 0.0047025724588691375\n",
            "            Iterations: 21\n",
            "            Function evaluations: 142\n",
            "            Gradient evaluations: 21\n",
            "running row nr: 36\n",
            "Optimization terminated successfully.    (Exit mode 0)\n",
            "            Current function value: 0.017530528369941317\n",
            "            Iterations: 7\n",
            "            Function evaluations: 57\n",
            "            Gradient evaluations: 7\n",
            "running row nr: 37\n",
            "Optimization terminated successfully.    (Exit mode 0)\n",
            "            Current function value: 0.014006353159813415\n",
            "            Iterations: 7\n",
            "            Function evaluations: 57\n",
            "            Gradient evaluations: 7\n",
            "running row nr: 38\n",
            "Optimization terminated successfully.    (Exit mode 0)\n",
            "            Current function value: 0.004113706443756251\n",
            "            Iterations: 22\n",
            "            Function evaluations: 136\n",
            "            Gradient evaluations: 22\n",
            "running row nr: 39\n",
            "Optimization terminated successfully.    (Exit mode 0)\n",
            "            Current function value: 0.06242795694132229\n",
            "            Iterations: 6\n",
            "            Function evaluations: 48\n",
            "            Gradient evaluations: 6\n",
            "running row nr: 40\n",
            "Optimization terminated successfully.    (Exit mode 0)\n",
            "            Current function value: 0.012301278433618688\n",
            "            Iterations: 9\n",
            "            Function evaluations: 69\n",
            "            Gradient evaluations: 9\n",
            "running row nr: 41\n",
            "Optimization terminated successfully.    (Exit mode 0)\n",
            "            Current function value: 0.004956614723644122\n",
            "            Iterations: 22\n",
            "            Function evaluations: 151\n",
            "            Gradient evaluations: 22\n",
            "running row nr: 42\n",
            "Optimization terminated successfully.    (Exit mode 0)\n",
            "            Current function value: 0.0011614179403377414\n",
            "            Iterations: 10\n",
            "            Function evaluations: 80\n",
            "            Gradient evaluations: 10\n",
            "running row nr: 43\n",
            "Optimization terminated successfully.    (Exit mode 0)\n",
            "            Current function value: 0.01469059195227254\n",
            "            Iterations: 5\n",
            "            Function evaluations: 42\n",
            "            Gradient evaluations: 5\n",
            "running row nr: 44\n",
            "Optimization terminated successfully.    (Exit mode 0)\n",
            "            Current function value: 0.0038100776428652834\n",
            "            Iterations: 25\n",
            "            Function evaluations: 152\n",
            "            Gradient evaluations: 25\n",
            "running row nr: 45\n",
            "Optimization terminated successfully.    (Exit mode 0)\n",
            "            Current function value: 0.03000651510080085\n",
            "            Iterations: 7\n",
            "            Function evaluations: 57\n",
            "            Gradient evaluations: 7\n",
            "running row nr: 46\n",
            "Optimization terminated successfully.    (Exit mode 0)\n",
            "            Current function value: 0.017923319222881737\n",
            "            Iterations: 7\n",
            "            Function evaluations: 55\n",
            "            Gradient evaluations: 7\n",
            "running row nr: 47\n",
            "Optimization terminated successfully.    (Exit mode 0)\n",
            "            Current function value: 0.0030264903689195917\n",
            "            Iterations: 31\n",
            "            Function evaluations: 229\n",
            "            Gradient evaluations: 31\n",
            "running row nr: 48\n",
            "Optimization terminated successfully.    (Exit mode 0)\n",
            "            Current function value: 0.005334978759291161\n",
            "            Iterations: 31\n",
            "            Function evaluations: 223\n",
            "            Gradient evaluations: 30\n",
            "running row nr: 49\n",
            "Optimization terminated successfully.    (Exit mode 0)\n",
            "            Current function value: 0.002155811206073116\n",
            "            Iterations: 25\n",
            "            Function evaluations: 176\n",
            "            Gradient evaluations: 25\n",
            "running row nr: 50\n",
            "Optimization terminated successfully.    (Exit mode 0)\n",
            "            Current function value: 0.010611561191373749\n",
            "            Iterations: 8\n",
            "            Function evaluations: 63\n",
            "            Gradient evaluations: 8\n"
          ],
          "name": "stdout"
        }
      ]
    },
    {
      "cell_type": "code",
      "metadata": {
        "id": "bkRYubuAmtpe",
        "colab": {
          "base_uri": "https://localhost:8080/",
          "height": 325
        },
        "outputId": "84321606-01c1-488b-a26b-439a4540a382"
      },
      "source": [
        "fig, axs = plt.subplots(2,2)\n",
        "fig.suptitle('SLSQP')\n",
        "fig.subplots_adjust(wspace=.5,hspace=.5)\n",
        "\n",
        "#plt.subplot(3,1,1)\n",
        "axs[0,0].plot(pd_traits3000[\"cab\"],np_slsqp[:,0],\"o\",label=\"cab\")\n",
        "axs[0,0].legend(loc=\"best\")\n",
        "#axs[0,0].set_xlabel(\"Reference\")\n",
        "\n",
        "axs[0,1].plot(pd_traits3000[\"cw\"],np_slsqp[:,1],\"o\",label=\"cw\")\n",
        "axs[0,1].legend(loc=\"best\")\n",
        "#axs[1].set_ylabel(\"Prediction\")\n",
        "\n",
        "axs[1,0].plot(pd_traits3000[\"cm\"],np_slsqp[:,2],\"o\",label=\"cm\")\n",
        "axs[1,0].legend(loc=\"best\")\n",
        "axs[1,0].set_xlabel(\"Reference\")\n",
        "#axs[2].set_ylabel(\"Prediction\")\n",
        "\n",
        "axs[1,1].plot(pd_traits3000[\"lai\"],np_slsqp[:,3],\"o\",label=\"lai\")\n",
        "axs[1,1].legend(loc=\"best\")\n",
        "axs[1,1].set_xlabel(\"Reference\")\n",
        "#axs[3].set_ylabel(\"Prediction\")"
      ],
      "execution_count": null,
      "outputs": [
        {
          "output_type": "execute_result",
          "data": {
            "text/plain": [
              "Text(0.5, 0, 'Reference')"
            ]
          },
          "metadata": {
            "tags": []
          },
          "execution_count": 90
        },
        {
          "output_type": "display_data",
          "data": {
            "image/png": "[encoded data removed]",
            "text/plain": [
              "<Figure size 432x288 with 4 Axes>"
            ]
          },
          "metadata": {
            "tags": []
          }
        }
      ]
    },
    {
      "cell_type": "markdown",
      "metadata": {
        "id": "c5zVVtOsnja0"
      },
      "source": [
        "# PSO\n",
        "\n",
        "Particle Swarm Optimization"
      ]
    },
    {
      "cell_type": "code",
      "metadata": {
        "id": "fggnK7QLnQc1"
      },
      "source": [
        "from pyswarm import pso"
      ],
      "execution_count": null,
      "outputs": []
    },
    {
      "cell_type": "code",
      "metadata": {
        "id": "pYsEvusln2Lr",
        "colab": {
          "base_uri": "https://localhost:8080/",
          "height": 34
        },
        "outputId": "53c796b5-5af2-444a-d54d-268aea636008"
      },
      "source": [
        "from pyswarm import pso\n",
        "np.set_printoptions(suppress=False) \n",
        "\n",
        "#running for one iteration\n",
        "optim_pso = pso(cost_spectra_sentinel,\n",
        "                lb,ub,\n",
        "                args=[test_spectra],\n",
        "                swarmsize=1) #it requires a np.array inside a np.array\n",
        "\n",
        "swarm_size = 150\n"
      ],
      "execution_count": null,
      "outputs": [
        {
          "output_type": "stream",
          "text": [
            "Stopping search: Swarm best objective change less than 1e-08\n"
          ],
          "name": "stdout"
        }
      ]
    },
    {
      "cell_type": "code",
      "metadata": {
        "id": "_8Oq_EsOoRHo",
        "colab": {
          "base_uri": "https://localhost:8080/",
          "height": 1000
        },
        "outputId": "a0aba3ab-03f1-4755-bf1e-0a387b3b742c"
      },
      "source": [
        "#making the loop\n",
        "k=1\n",
        "for i in range(train_n3000):\n",
        "  print(\"running row nr:\",k) #uncomment if you want to keep track of what is going on\n",
        "  if k == 1:\n",
        "    optim_pso = pso(cost_spectra_sentinel,\n",
        "                lb,ub,\n",
        "                args=[np_optim_spectr[i,:]],\n",
        "                swarmsize=swarm_size)#, #if we change this to 1 i reckon its the same as SGD\n",
        "                #minfunc=0.00001) #this is important.. but i want the swarm to go faster\n",
        "    \n",
        "    np_pso=optim_pso[0]\n",
        "  if k > 1:\n",
        "    optim_pso = pso(cost_spectra_sentinel,\n",
        "                lb,ub,\n",
        "                args=[np_optim_spectr[i,:]],\n",
        "                swarmsize=swarm_size)#,\n",
        "                #minfunc=0.00001)\n",
        "    \n",
        "    np_pso=numpy.vstack((np_pso,optim_pso[0]))\n",
        "\n",
        "  k = k+1"
      ],
      "execution_count": null,
      "outputs": [
        {
          "output_type": "stream",
          "text": [
            "running row nr: 1\n",
            "Stopping search: Swarm best objective change less than 1e-08\n",
            "running row nr: 2\n",
            "Stopping search: Swarm best objective change less than 1e-08\n",
            "running row nr: 3\n",
            "Stopping search: Swarm best objective change less than 1e-08\n",
            "running row nr: 4\n",
            "Stopping search: Swarm best objective change less than 1e-08\n",
            "running row nr: 5\n",
            "Stopping search: Swarm best objective change less than 1e-08\n",
            "running row nr: 6\n",
            "Stopping search: Swarm best objective change less than 1e-08\n",
            "running row nr: 7\n",
            "Stopping search: Swarm best objective change less than 1e-08\n",
            "running row nr: 8\n",
            "Stopping search: Swarm best objective change less than 1e-08\n",
            "running row nr: 9\n",
            "Stopping search: Swarm best objective change less than 1e-08\n",
            "running row nr: 10\n",
            "Stopping search: Swarm best objective change less than 1e-08\n",
            "running row nr: 11\n",
            "Stopping search: Swarm best objective change less than 1e-08\n",
            "running row nr: 12\n",
            "Stopping search: Swarm best objective change less than 1e-08\n",
            "running row nr: 13\n",
            "Stopping search: Swarm best objective change less than 1e-08\n",
            "running row nr: 14\n",
            "Stopping search: Swarm best objective change less than 1e-08\n",
            "running row nr: 15\n",
            "Stopping search: Swarm best objective change less than 1e-08\n",
            "running row nr: 16\n",
            "Stopping search: Swarm best objective change less than 1e-08\n",
            "running row nr: 17\n",
            "Stopping search: Swarm best objective change less than 1e-08\n",
            "running row nr: 18\n",
            "Stopping search: Swarm best objective change less than 1e-08\n",
            "running row nr: 19\n",
            "Stopping search: Swarm best objective change less than 1e-08\n",
            "running row nr: 20\n",
            "Stopping search: Swarm best objective change less than 1e-08\n",
            "running row nr: 21\n",
            "Stopping search: Swarm best objective change less than 1e-08\n",
            "running row nr: 22\n",
            "Stopping search: Swarm best objective change less than 1e-08\n",
            "running row nr: 23\n",
            "Stopping search: Swarm best objective change less than 1e-08\n",
            "running row nr: 24\n",
            "Stopping search: Swarm best objective change less than 1e-08\n",
            "running row nr: 25\n",
            "Stopping search: Swarm best objective change less than 1e-08\n",
            "running row nr: 26\n",
            "Stopping search: Swarm best objective change less than 1e-08\n",
            "running row nr: 27\n",
            "Stopping search: Swarm best objective change less than 1e-08\n",
            "running row nr: 28\n",
            "Stopping search: Swarm best objective change less than 1e-08\n",
            "running row nr: 29\n",
            "Stopping search: Swarm best objective change less than 1e-08\n",
            "running row nr: 30\n",
            "Stopping search: Swarm best objective change less than 1e-08\n",
            "running row nr: 31\n",
            "Stopping search: Swarm best objective change less than 1e-08\n",
            "running row nr: 32\n",
            "Stopping search: Swarm best objective change less than 1e-08\n",
            "running row nr: 33\n",
            "Stopping search: Swarm best objective change less than 1e-08\n",
            "running row nr: 34\n",
            "Stopping search: Swarm best objective change less than 1e-08\n",
            "running row nr: 35\n",
            "Stopping search: Swarm best objective change less than 1e-08\n",
            "running row nr: 36\n",
            "Stopping search: Swarm best objective change less than 1e-08\n",
            "running row nr: 37\n",
            "Stopping search: Swarm best objective change less than 1e-08\n",
            "running row nr: 38\n",
            "Stopping search: Swarm best objective change less than 1e-08\n",
            "running row nr: 39\n",
            "Stopping search: Swarm best objective change less than 1e-08\n",
            "running row nr: 40\n",
            "Stopping search: Swarm best objective change less than 1e-08\n",
            "running row nr: 41\n",
            "Stopping search: Swarm best objective change less than 1e-08\n",
            "running row nr: 42\n",
            "Stopping search: Swarm best objective change less than 1e-08\n",
            "running row nr: 43\n",
            "Stopping search: Swarm best objective change less than 1e-08\n",
            "running row nr: 44\n",
            "Stopping search: Swarm best objective change less than 1e-08\n",
            "running row nr: 45\n",
            "Stopping search: Swarm best objective change less than 1e-08\n",
            "running row nr: 46\n",
            "Stopping search: Swarm best objective change less than 1e-08\n",
            "running row nr: 47\n",
            "Stopping search: Swarm best objective change less than 1e-08\n",
            "running row nr: 48\n",
            "Stopping search: Swarm best objective change less than 1e-08\n",
            "running row nr: 49\n",
            "Stopping search: Swarm best objective change less than 1e-08\n",
            "running row nr: 50\n",
            "Stopping search: Swarm best objective change less than 1e-08\n"
          ],
          "name": "stdout"
        }
      ]
    },
    {
      "cell_type": "code",
      "metadata": {
        "id": "39zllRRZubvW",
        "colab": {
          "base_uri": "https://localhost:8080/",
          "height": 325
        },
        "outputId": "21c8e400-514e-4637-8480-b8ca07c52f92"
      },
      "source": [
        "#Quick plotting\n",
        "\n",
        "fig, axs = plt.subplots(2,2)\n",
        "fig.suptitle('Particle Optimization')\n",
        "fig.subplots_adjust(wspace=.5,hspace=.5)\n",
        "\n",
        "#plt.subplot(3,1,1)\n",
        "axs[0,0].plot(pd_traits3000[\"cab\"],np_pso[:,0],\"o\",label=\"cab\")\n",
        "axs[0,0].legend(loc=\"best\")\n",
        "#axs[0,0].set_xlabel(\"Reference\")\n",
        "\n",
        "axs[0,1].plot(pd_traits3000[\"cw\"],np_pso[:,1],\"o\",label=\"cw\")\n",
        "axs[0,1].legend(loc=\"best\")\n",
        "#axs[1].set_ylabel(\"Prediction\")\n",
        "\n",
        "axs[1,0].plot(pd_traits3000[\"cm\"],np_pso[:,2],\"o\",label=\"cm\")\n",
        "axs[1,0].legend(loc=\"best\")\n",
        "axs[1,0].set_xlabel(\"Reference\")\n",
        "#axs[2].set_ylabel(\"Prediction\")\n",
        "\n",
        "axs[1,1].plot(pd_traits3000[\"lai\"],np_pso[:,3],\"o\",label=\"lai\")\n",
        "axs[1,1].legend(loc=\"best\")\n",
        "axs[1,1].set_xlabel(\"Reference\")\n",
        "#axs[3].set_ylabel(\"Prediction\")"
      ],
      "execution_count": null,
      "outputs": [
        {
          "output_type": "execute_result",
          "data": {
            "text/plain": [
              "Text(0.5, 0, 'Reference')"
            ]
          },
          "metadata": {
            "tags": []
          },
          "execution_count": 94
        },
        {
          "output_type": "display_data",
          "data": {
            "image/png": "[encoded data removed]",
            "text/plain": [
              "<Figure size 432x288 with 4 Axes>"
            ]
          },
          "metadata": {
            "tags": []
          }
        }
      ]
    },
    {
      "cell_type": "markdown",
      "metadata": {
        "id": "HH1PWdUprXDO"
      },
      "source": [
        "# Genetic optimization\n",
        "\n",
        "Differential evolution\n",
        "\n",
        "https://docs.scipy.org/doc/scipy/reference/generated/scipy.optimize.differential_evolution.html#scipy.optimize.differential_evolution"
      ]
    },
    {
      "cell_type": "code",
      "metadata": {
        "id": "yOo4A6iIsT3H",
        "colab": {
          "base_uri": "https://localhost:8080/",
          "height": 136
        },
        "outputId": "cdb76b3c-9be7-436a-844f-e200f24f8055"
      },
      "source": [
        "from scipy import optimize\n",
        "\n",
        "optimize.differential_evolution(cost_spectra_sentinel,args=[test_spectra],\n",
        "                                bounds=bnds2,popsize=4,maxiter=500,recombination=.25,\n",
        "                                seed=0,init='latinhypercube')\n"
      ],
      "execution_count": null,
      "outputs": [
        {
          "output_type": "execute_result",
          "data": {
            "text/plain": [
              "     fun: 2.0047462056687076e-07\n",
              "     jac: array([0.2203084 , 9.00024867, 3.70108098, 0.        ])\n",
              " message: 'Maximum number of iterations has been exceeded.'\n",
              "    nfev: 8096\n",
              "     nit: 500\n",
              " success: False\n",
              "       x: array([5.93931268e+01, 3.28076576e-03, 3.71126927e-03, 1.54614502e+00])"
            ]
          },
          "metadata": {
            "tags": []
          },
          "execution_count": 95
        }
      ]
    },
    {
      "cell_type": "code",
      "metadata": {
        "id": "3HOiYCO52vao"
      },
      "source": [
        "np_difevo = optimize.differential_evolution(cost_spectra_sentinel,args=[test_spectra],\n",
        "                                bounds=bnds2,popsize=4,maxiter=500,recombination=.25,\n",
        "                                seed=0,init='latinhypercube')"
      ],
      "execution_count": null,
      "outputs": []
    },
    {
      "cell_type": "code",
      "metadata": {
        "id": "BvURRYz621S9",
        "colab": {
          "base_uri": "https://localhost:8080/",
          "height": 51
        },
        "outputId": "ebf606f5-953a-4f2a-e31e-ea17e6fb075b"
      },
      "source": [
        "print(np_difevo.x.shape)\n",
        "np_pso.shape"
      ],
      "execution_count": null,
      "outputs": [
        {
          "output_type": "stream",
          "text": [
            "(4,)\n"
          ],
          "name": "stdout"
        },
        {
          "output_type": "execute_result",
          "data": {
            "text/plain": [
              "(50, 4)"
            ]
          },
          "metadata": {
            "tags": []
          },
          "execution_count": 97
        }
      ]
    },
    {
      "cell_type": "code",
      "metadata": {
        "id": "2ErVad_s2tGb",
        "colab": {
          "base_uri": "https://localhost:8080/",
          "height": 867
        },
        "outputId": "799bedf7-f771-49c2-ef62-184b39ca2249"
      },
      "source": [
        "#making the loop\n",
        "k=1\n",
        "for i in range(train_n3000):\n",
        "  print(\"running row nr:\",k) #uncomment if you want to keep track of what is going on\n",
        "  if k == 1:\n",
        "    optim_diffevo = optimize.differential_evolution(cost_spectra_sentinel,\n",
        "                                                    args=[np_optim_spectr[i,:]],\n",
        "                                                    bounds=bnds2,seed=0)\n",
        "    \n",
        "    np_diffevo=optim_diffevo.x\n",
        "  if k > 1:\n",
        "    optim_diffevo = optimize.differential_evolution(cost_spectra_sentinel,\n",
        "                                                    args=[np_optim_spectr[i,:]],\n",
        "                                                    bounds=bnds2,seed=0)\n",
        "    \n",
        "    np_diffevo=numpy.vstack((np_diffevo,optim_diffevo.x))\n",
        "\n",
        "  k = k+1\n"
      ],
      "execution_count": null,
      "outputs": [
        {
          "output_type": "stream",
          "text": [
            "running row nr: 1\n",
            "running row nr: 2\n",
            "running row nr: 3\n",
            "running row nr: 4\n",
            "running row nr: 5\n",
            "running row nr: 6\n",
            "running row nr: 7\n",
            "running row nr: 8\n",
            "running row nr: 9\n",
            "running row nr: 10\n",
            "running row nr: 11\n",
            "running row nr: 12\n",
            "running row nr: 13\n",
            "running row nr: 14\n",
            "running row nr: 15\n",
            "running row nr: 16\n",
            "running row nr: 17\n",
            "running row nr: 18\n",
            "running row nr: 19\n",
            "running row nr: 20\n",
            "running row nr: 21\n",
            "running row nr: 22\n",
            "running row nr: 23\n",
            "running row nr: 24\n",
            "running row nr: 25\n",
            "running row nr: 26\n",
            "running row nr: 27\n",
            "running row nr: 28\n",
            "running row nr: 29\n",
            "running row nr: 30\n",
            "running row nr: 31\n",
            "running row nr: 32\n",
            "running row nr: 33\n",
            "running row nr: 34\n",
            "running row nr: 35\n",
            "running row nr: 36\n",
            "running row nr: 37\n",
            "running row nr: 38\n",
            "running row nr: 39\n",
            "running row nr: 40\n",
            "running row nr: 41\n",
            "running row nr: 42\n",
            "running row nr: 43\n",
            "running row nr: 44\n",
            "running row nr: 45\n",
            "running row nr: 46\n",
            "running row nr: 47\n",
            "running row nr: 48\n",
            "running row nr: 49\n",
            "running row nr: 50\n"
          ],
          "name": "stdout"
        }
      ]
    },
    {
      "cell_type": "code",
      "metadata": {
        "id": "6r-Qmqn6GVwM",
        "colab": {
          "base_uri": "https://localhost:8080/",
          "height": 325
        },
        "outputId": "97cabe92-7e9f-429f-bb0c-d59dec473545"
      },
      "source": [
        "#Quick plotting\n",
        "\n",
        "fig, axs = plt.subplots(2,2)\n",
        "fig.suptitle('Differential evolution')\n",
        "fig.subplots_adjust(wspace=.5,hspace=.5)\n",
        "\n",
        "#plt.subplot(3,1,1)\n",
        "axs[0,0].plot(pd_traits3000[\"cab\"],np_diffevo[:,0],\"o\",label=\"cab\")\n",
        "axs[0,0].legend(loc=\"best\")\n",
        "#axs[0,0].set_xlabel(\"Reference\")\n",
        "\n",
        "axs[0,1].plot(pd_traits3000[\"cw\"],np_diffevo[:,1],\"o\",label=\"cw\")\n",
        "axs[0,1].legend(loc=\"best\")\n",
        "#axs[1].set_ylabel(\"Prediction\")\n",
        "\n",
        "axs[1,0].plot(pd_traits3000[\"cm\"],np_diffevo[:,2],\"o\",label=\"cm\")\n",
        "axs[1,0].legend(loc=\"best\")\n",
        "axs[1,0].set_xlabel(\"Reference\")\n",
        "#axs[2].set_ylabel(\"Prediction\")\n",
        "\n",
        "axs[1,1].plot(pd_traits3000[\"lai\"],np_diffevo[:,3],\"o\",label=\"lai\")\n",
        "axs[1,1].legend(loc=\"best\")\n",
        "axs[1,1].set_xlabel(\"Reference\")\n",
        "#axs[3].set_ylabel(\"Prediction\")"
      ],
      "execution_count": null,
      "outputs": [
        {
          "output_type": "execute_result",
          "data": {
            "text/plain": [
              "Text(0.5, 0, 'Reference')"
            ]
          },
          "metadata": {
            "tags": []
          },
          "execution_count": 99
        },
        {
          "output_type": "display_data",
          "data": {
            "image/png": "[encoded data removed]",
            "text/plain": [
              "<Figure size 432x288 with 4 Axes>"
            ]
          },
          "metadata": {
            "tags": []
          }
        }
      ]
    },
    {
      "cell_type": "markdown",
      "metadata": {
        "id": "AQAv7FPbHzBu"
      },
      "source": [
        "# Bayesian optimization\n",
        "\n",
        "[BayesianOptimization package](https://github.com/fmfn/BayesianOptimization)\n",
        "\n",
        "[another example](http://philipperemy.github.io/visualization/)\n",
        "\n",
        "- If needed implement a scaling function for the input data\n",
        "\n",
        "for a deep implementation\n",
        "http://krasserm.github.io/2018/03/21/bayesian-optimization/\n",
        "\n"
      ]
    },
    {
      "cell_type": "code",
      "metadata": {
        "id": "J1o8I6D7KAwg"
      },
      "source": [
        "from bayes_opt import BayesianOptimization\n",
        "import math"
      ],
      "execution_count": null,
      "outputs": []
    },
    {
      "cell_type": "markdown",
      "metadata": {
        "id": "4uhoNDM9Qs3D"
      },
      "source": [
        "This package version requires specific changes, here we go"
      ]
    },
    {
      "cell_type": "code",
      "metadata": {
        "id": "aA6_l1YfKFZQ",
        "colab": {
          "base_uri": "https://localhost:8080/",
          "height": 51
        },
        "outputId": "0fa56b61-feca-4a72-c3da-1b56a5f4c99e"
      },
      "source": [
        "#This version of Bayes opt requires specific changes\n",
        "\n",
        "#First the function can no longer take as input a spectra profile, instead it must iterate without being callable\n",
        "\n",
        "#non-scaled function\n",
        "rho_s2_temp = test_spectra\n",
        "def bayes_cost_s2(cab,cw,cm,lai):\n",
        "\n",
        "  sim_canopy = custom_prosail(cab,cw,cm,lai)\n",
        "  sim_canopy = Prosail2S2(filepath,sim_canopy)\n",
        "  sim_canopy = sim_canopy[[1,2,3,4,5,6,8,11,12],]\n",
        "  #print(rho_s2_temp)\n",
        "  samerror            = sptool.distance.SAM(rho_s2_temp,sim_canopy)\n",
        "\n",
        "  #the other important difference is that this package maximizes instead of minimizing\n",
        "  #we can just make the function output be 1/samerror - as samerror goes to 0, 1 can get infinitely bigger\n",
        "  #if we want to limit the growth, we can just log the function above (maximizes in 1)\n",
        "\n",
        "  #return 1-samerror\n",
        "  return -samerror\n",
        "\n",
        "#testing the cost function\n",
        "print(bayes_cost_s2(20,.005,.005,3))\n",
        "print(bayes_cost_s2(pd_traits3000[\"cab\"][0],pd_traits3000[\"cw\"][0],pd_traits3000[\"cm\"][0],pd_traits3000[\"lai\"][0]))\n",
        "\n",
        "#now we have also to change the way we set up the boundaries of the bayesian optimization\n",
        "lb = [min_cab,min_cw,min_cm,min_lai]\n",
        "ub = [max_cab,max_cw,max_cm,max_lai]\n",
        "\n",
        "pbounds= {'cab': (min_cab,max_cab),'cw':(min_cw,max_cw),\n",
        "          'cm':(min_cm,max_cm),'lai':(min_lai,max_lai)}\n",
        "\n",
        "\n",
        "\n"
      ],
      "execution_count": null,
      "outputs": [
        {
          "output_type": "stream",
          "text": [
            "-0.1740238595481179\n",
            "-0.0\n"
          ],
          "name": "stdout"
        }
      ]
    },
    {
      "cell_type": "markdown",
      "metadata": {
        "id": "_XAG2wMBQwcI"
      },
      "source": [
        "Testing for the first row and a pre-set number of iterations"
      ]
    },
    {
      "cell_type": "code",
      "metadata": {
        "id": "H4gitC4KQokZ",
        "colab": {
          "base_uri": "https://localhost:8080/",
          "height": 238
        },
        "outputId": "b61635b4-565f-410e-cbaa-379b8d4b5dc8"
      },
      "source": [
        "from sklearn.gaussian_process.kernels import WhiteKernel, ExpSineSquared, RationalQuadratic, RBF\n",
        "\n",
        "#testing for one iteration\n",
        "optim_bayes = BayesianOptimization(\n",
        "    f=bayes_cost_s2,\n",
        "    pbounds=pbounds,\n",
        "    random_state=0,\n",
        "    #verbose=0\n",
        ")\n",
        "\n",
        "#basic usage\n",
        "optim_bayes.maximize(\n",
        "    init_points=5,\n",
        "    n_iter=5,\n",
        "    acq='poi')\n",
        "\n"
      ],
      "execution_count": null,
      "outputs": [
        {
          "output_type": "stream",
          "text": [
            "|   iter    |  target   |    cab    |    cm     |    cw     |    lai    |\n",
            "-------------------------------------------------------------------------\n",
            "| \u001b[0m 1       \u001b[0m | \u001b[0m-0.06553 \u001b[0m | \u001b[0m 53.91   \u001b[0m | \u001b[0m 0.003146\u001b[0m | \u001b[0m 0.002808\u001b[0m | \u001b[0m 4.042   \u001b[0m |\n",
            "| \u001b[0m 2       \u001b[0m | \u001b[0m-0.06634 \u001b[0m | \u001b[0m 43.89   \u001b[0m | \u001b[0m 0.002938\u001b[0m | \u001b[0m 0.002313\u001b[0m | \u001b[0m 6.297   \u001b[0m |\n",
            "| \u001b[0m 3       \u001b[0m | \u001b[0m-0.1101  \u001b[0m | \u001b[0m 87.09   \u001b[0m | \u001b[0m 0.00215 \u001b[0m | \u001b[0m 0.003375\u001b[0m | \u001b[0m 3.938   \u001b[0m |\n",
            "| \u001b[0m 4       \u001b[0m | \u001b[0m-0.09412 \u001b[0m | \u001b[0m 55.44   \u001b[0m | \u001b[0m 0.003777\u001b[0m | \u001b[0m 0.001213\u001b[0m | \u001b[0m 1.066   \u001b[0m |\n",
            "| \u001b[0m 5       \u001b[0m | \u001b[0m-0.1915  \u001b[0m | \u001b[0m 11.62   \u001b[0m | \u001b[0m 0.003498\u001b[0m | \u001b[0m 0.003334\u001b[0m | \u001b[0m 6.155   \u001b[0m |\n",
            "| \u001b[95m 6       \u001b[0m | \u001b[95m-0.06281 \u001b[0m | \u001b[95m 50.19   \u001b[0m | \u001b[95m 0.003366\u001b[0m | \u001b[95m 0.001692\u001b[0m | \u001b[95m 6.339   \u001b[0m |\n",
            "| \u001b[0m 7       \u001b[0m | \u001b[0m-0.09741 \u001b[0m | \u001b[0m 52.22   \u001b[0m | \u001b[0m 0.00149 \u001b[0m | \u001b[0m 0.00381 \u001b[0m | \u001b[0m 5.697   \u001b[0m |\n",
            "| \u001b[95m 8       \u001b[0m | \u001b[95m-0.05144 \u001b[0m | \u001b[95m 49.82   \u001b[0m | \u001b[95m 0.003428\u001b[0m | \u001b[95m 0.001   \u001b[0m | \u001b[95m 6.368   \u001b[0m |\n",
            "| \u001b[0m 9       \u001b[0m | \u001b[0m-0.06589 \u001b[0m | \u001b[0m 49.32   \u001b[0m | \u001b[0m 0.003453\u001b[0m | \u001b[0m 0.001837\u001b[0m | \u001b[0m 6.376   \u001b[0m |\n",
            "| \u001b[95m 10      \u001b[0m | \u001b[95m-0.04406 \u001b[0m | \u001b[95m 42.8    \u001b[0m | \u001b[95m 0.002358\u001b[0m | \u001b[95m 0.001   \u001b[0m | \u001b[95m 6.484   \u001b[0m |\n",
            "=========================================================================\n"
          ],
          "name": "stdout"
        }
      ]
    },
    {
      "cell_type": "markdown",
      "metadata": {
        "id": "uz8LDLVoVu_p"
      },
      "source": [
        "Testing until it finds a decent solution"
      ]
    },
    {
      "cell_type": "code",
      "metadata": {
        "id": "87Pe_clPU2TE",
        "colab": {
          "base_uri": "https://localhost:8080/",
          "height": 1000
        },
        "outputId": "4695a03f-0f3e-42c7-d439-ffd1f8cdfca4"
      },
      "source": [
        "\n",
        "#resets the bayesian optimization\n",
        "optim_bayes = BayesianOptimization(\n",
        "    f=bayes_cost_s2,\n",
        "    pbounds=pbounds,\n",
        "    random_state=0,\n",
        "    verbose=0\n",
        ")\n",
        "\n",
        "#starts the optimization with 50 random points and 0 iterations\n",
        "optim_bayes.maximize(\n",
        "    init_points=300,\n",
        "    n_iter=0,\n",
        "    acq='poi')\n",
        "\n",
        "max_val = 0 #(the maximum value of the current cost function is 0)\n",
        "tgt_val = optim_bayes.max['target'] #fetches the current target value\n",
        "\n",
        "k = 1 #this is a safety valve to set a max of iteration\n",
        "while (abs(tgt_val-max_val)>.001):\n",
        "\n",
        "  optim_bayes.maximize(\n",
        "  init_points=0,\n",
        "  n_iter=1,\n",
        "  acq='poi')\n",
        "\n",
        "  tgt_val = optim_bayes.max['target']\n",
        "  print(k)\n",
        "  k=k+1\n",
        "  if (k==25): tgt_val = max_val\n",
        "\n",
        "\n",
        "\n"
      ],
      "execution_count": null,
      "outputs": [
        {
          "output_type": "stream",
          "text": [
            "1\n",
            "2\n",
            "3\n",
            "4\n",
            "5\n",
            "6\n",
            "7\n",
            "8\n",
            "9\n",
            "10\n",
            "11\n",
            "12\n",
            "13\n",
            "14\n",
            "15\n",
            "16\n",
            "17\n",
            "18\n",
            "19\n",
            "20\n",
            "21\n",
            "22\n",
            "23\n",
            "24\n",
            "25\n",
            "26\n",
            "27\n",
            "28\n",
            "29\n",
            "30\n",
            "31\n",
            "32\n",
            "33\n",
            "34\n",
            "35\n",
            "36\n",
            "37\n",
            "38\n",
            "39\n",
            "40\n",
            "41\n",
            "42\n",
            "43\n",
            "44\n",
            "45\n",
            "46\n",
            "47\n",
            "48\n",
            "49\n",
            "50\n",
            "51\n",
            "52\n",
            "53\n",
            "54\n",
            "55\n",
            "56\n",
            "57\n",
            "58\n",
            "59\n",
            "60\n",
            "61\n",
            "62\n",
            "63\n",
            "64\n",
            "65\n",
            "66\n",
            "67\n",
            "68\n",
            "69\n",
            "70\n",
            "71\n",
            "72\n",
            "73\n",
            "74\n",
            "75\n",
            "76\n",
            "77\n",
            "78\n",
            "79\n",
            "80\n",
            "81\n",
            "82\n",
            "83\n",
            "84\n",
            "85\n",
            "86\n",
            "87\n",
            "88\n",
            "89\n",
            "90\n",
            "91\n",
            "92\n",
            "93\n",
            "94\n",
            "95\n",
            "96\n",
            "97\n",
            "98\n",
            "99\n"
          ],
          "name": "stdout"
        }
      ]
    },
    {
      "cell_type": "code",
      "metadata": {
        "id": "IAilMTpakLC9",
        "colab": {
          "base_uri": "https://localhost:8080/",
          "height": 34
        },
        "outputId": "b192bb0b-ba19-423d-fae2-486f95c4ba7f"
      },
      "source": [
        "optim_bayes.max['target']\n",
        "tgt_val"
      ],
      "execution_count": null,
      "outputs": [
        {
          "output_type": "execute_result",
          "data": {
            "text/plain": [
              "0"
            ]
          },
          "metadata": {
            "tags": []
          },
          "execution_count": 52
        }
      ]
    },
    {
      "cell_type": "code",
      "metadata": {
        "id": "ALIldkr7aAi3",
        "colab": {
          "base_uri": "https://localhost:8080/",
          "height": 102
        },
        "outputId": "f1068316-7647-4eb8-e04e-efb44380b4fa"
      },
      "source": [
        "optim_bayes.maximize(\n",
        "    init_points=0,\n",
        "    n_iter=1,\n",
        "    acq='poi')\n",
        "tgt_val = optim_bayes.max\n",
        "tgt_val['target']\n"
      ],
      "execution_count": null,
      "outputs": [
        {
          "output_type": "stream",
          "text": [
            "|   iter    |  target   |    cab    |    cm     |    cw     |    lai    |\n",
            "-------------------------------------------------------------------------\n",
            "| \u001b[0m 8       \u001b[0m | \u001b[0m-0.04957 \u001b[0m | \u001b[0m 48.21   \u001b[0m | \u001b[0m 0.003309\u001b[0m | \u001b[0m 0.003502\u001b[0m | \u001b[0m 2.603   \u001b[0m |\n",
            "=========================================================================\n"
          ],
          "name": "stdout"
        },
        {
          "output_type": "execute_result",
          "data": {
            "text/plain": [
              "-0.01195881431864231"
            ]
          },
          "metadata": {
            "tags": []
          },
          "execution_count": 40
        }
      ]
    },
    {
      "cell_type": "code",
      "metadata": {
        "id": "RNnJnjwwR5qK",
        "colab": {
          "base_uri": "https://localhost:8080/",
          "height": 51
        },
        "outputId": "63b9641d-167a-4e73-d565-80187c34d124"
      },
      "source": [
        "#this part is just a test to see how the outputs can be accessed\n",
        "print(optim_bayes.max['params']['cab'])\n",
        "bb = np.array([optim_bayes.max['params']['cab'],optim_bayes.max['params']['cab'],optim_bayes.max['params']['cab'],optim_bayes.max['params']['cab']])\n",
        "optim_diffevo.x\n",
        "bb"
      ],
      "execution_count": null,
      "outputs": [
        {
          "output_type": "stream",
          "text": [
            "42.7951524906278\n"
          ],
          "name": "stdout"
        },
        {
          "output_type": "execute_result",
          "data": {
            "text/plain": [
              "array([42.79515249, 42.79515249, 42.79515249, 42.79515249])"
            ]
          },
          "metadata": {
            "tags": []
          },
          "execution_count": 103
        }
      ]
    },
    {
      "cell_type": "code",
      "metadata": {
        "id": "P1qrAqvASN2q",
        "colab": {
          "base_uri": "https://localhost:8080/",
          "height": 867
        },
        "outputId": "824bf43c-4b6a-4edf-e97f-1876f5bce7dd"
      },
      "source": [
        "\n",
        "#initial set of points\n",
        "init_point_set = 10\n",
        "max_iter_bayes = 30\n",
        "\n",
        "\n",
        "k=1\n",
        "for i in range(train_n3000):\n",
        "  print(\"running row nr:\",k) #uncomment if you want to keep track of what is going on\n",
        "\n",
        "  #first we update the spectra\n",
        "  rho_s2_temp = np_optim_spectr[i,:]\n",
        "\n",
        "  #let's see if this changes the within value of the function\n",
        "  #so we stabilize the input to the bayes but we iterate the target spectra\n",
        "  #print(bayes_cost_s2(pd_traits3000[\"cab\"][0],pd_traits3000[\"cw\"][0],pd_traits3000[\"cm\"][0],pd_traits3000[\"lai\"][0]))\n",
        "  #print(bayes_cost_s2(pd_traits3000[\"cab\"][i],pd_traits3000[\"cw\"][i],pd_traits3000[\"cm\"][i],pd_traits3000[\"lai\"][i]))\n",
        "\n",
        "  #now we initialize an optimizer per row\n",
        "\n",
        "  optim_bayes = BayesianOptimization(\n",
        "    f=bayes_cost_s2,\n",
        "    pbounds=pbounds,\n",
        "    random_state=0,\n",
        "    verbose=0 #uncomment me to reduce theconsole spam\n",
        "    )\n",
        "  \n",
        "  optim_bayes.maximize(\n",
        "    init_points=init_point_set,\n",
        "    n_iter=max_iter_bayes,\n",
        "    acq='poi') #options are: \"ucb\"(Default),\"ei\" and \"poi\"\n",
        "\n",
        "  cab_t = optim_bayes.max['params']['cab']\n",
        "  cw_t = optim_bayes.max['params']['cw']\n",
        "  cm_t = optim_bayes.max['params']['cm']\n",
        "  lai_t = optim_bayes.max['params']['lai']\n",
        "  temp_stack = np.array([cab_t,cw_t,cm_t,lai_t])\n",
        "  \n",
        "  #and finally we can jsut throw the output into the a np stack \n",
        "  if k == 1:\n",
        "    np_bayesopti=temp_stack\n",
        "  if k > 1:\n",
        "    np_bayesopti=numpy.vstack((np_bayesopti,temp_stack))\n",
        "\n",
        "  k = k+1"
      ],
      "execution_count": null,
      "outputs": [
        {
          "output_type": "stream",
          "text": [
            "running row nr: 1\n",
            "running row nr: 2\n",
            "running row nr: 3\n",
            "running row nr: 4\n",
            "running row nr: 5\n",
            "running row nr: 6\n",
            "running row nr: 7\n",
            "running row nr: 8\n",
            "running row nr: 9\n",
            "running row nr: 10\n",
            "running row nr: 11\n",
            "running row nr: 12\n",
            "running row nr: 13\n",
            "running row nr: 14\n",
            "running row nr: 15\n",
            "running row nr: 16\n",
            "running row nr: 17\n",
            "running row nr: 18\n",
            "running row nr: 19\n",
            "running row nr: 20\n",
            "running row nr: 21\n",
            "running row nr: 22\n",
            "running row nr: 23\n",
            "running row nr: 24\n",
            "running row nr: 25\n",
            "running row nr: 26\n",
            "running row nr: 27\n",
            "running row nr: 28\n",
            "running row nr: 29\n",
            "running row nr: 30\n",
            "running row nr: 31\n",
            "running row nr: 32\n",
            "running row nr: 33\n",
            "running row nr: 34\n",
            "running row nr: 35\n",
            "running row nr: 36\n",
            "running row nr: 37\n",
            "running row nr: 38\n",
            "running row nr: 39\n",
            "running row nr: 40\n",
            "running row nr: 41\n",
            "running row nr: 42\n",
            "running row nr: 43\n",
            "running row nr: 44\n",
            "running row nr: 45\n",
            "running row nr: 46\n",
            "running row nr: 47\n",
            "running row nr: 48\n",
            "running row nr: 49\n",
            "running row nr: 50\n"
          ],
          "name": "stdout"
        }
      ]
    },
    {
      "cell_type": "code",
      "metadata": {
        "id": "FlYxWO7nN3hI",
        "colab": {
          "base_uri": "https://localhost:8080/",
          "height": 325
        },
        "outputId": "66eea0a1-4718-44b7-8f39-b8c7c2e89835"
      },
      "source": [
        "#Quick plotting\n",
        "fig, axs = plt.subplots(2,2)\n",
        "fig.suptitle('Differential evolution')\n",
        "fig.subplots_adjust(wspace=.5,hspace=.5)\n",
        "\n",
        "#plt.subplot(3,1,1)\n",
        "axs[0,0].plot(pd_traits3000[\"cab\"],np_bayesopti[:,0],\"o\",label=\"cab\")\n",
        "axs[0,0].legend(loc=\"best\")\n",
        "#axs[0,0].set_xlabel(\"Reference\")\n",
        "\n",
        "axs[0,1].plot(pd_traits3000[\"cw\"],np_bayesopti[:,1],\"o\",label=\"cw\")\n",
        "axs[0,1].legend(loc=\"best\")\n",
        "#axs[1].set_ylabel(\"Prediction\")\n",
        "\n",
        "axs[1,0].plot(pd_traits3000[\"cm\"],np_bayesopti[:,2],\"o\",label=\"cm\")\n",
        "axs[1,0].legend(loc=\"best\")\n",
        "axs[1,0].set_xlabel(\"Reference\")\n",
        "#axs[2].set_ylabel(\"Prediction\")\n",
        "\n",
        "axs[1,1].plot(pd_traits3000[\"lai\"],np_bayesopti[:,3],\"o\",label=\"lai\")\n",
        "axs[1,1].legend(loc=\"best\")\n",
        "axs[1,1].set_xlabel(\"Reference\")\n",
        "#axs[3].set_ylabel(\"Prediction\")"
      ],
      "execution_count": null,
      "outputs": [
        {
          "output_type": "execute_result",
          "data": {
            "text/plain": [
              "Text(0.5, 0, 'Reference')"
            ]
          },
          "metadata": {
            "tags": []
          },
          "execution_count": 105
        },
        {
          "output_type": "display_data",
          "data": {
            "image/png": "[encoded data removed]",
            "text/plain": [
              "<Figure size 432x288 with 4 Axes>"
            ]
          },
          "metadata": {
            "tags": []
          }
        }
      ]
    },
    {
      "cell_type": "markdown",
      "metadata": {
        "id": "lEW1thI2bJEo"
      },
      "source": [
        "# Saving everything to drive\n",
        "\n"
      ]
    },
    {
      "cell_type": "code",
      "metadata": {
        "id": "Ibxt1Z_ee2y-"
      },
      "source": [
        "np.savetxt(\"/content/drive/My Drive/DSRP_Lunch_outputs/Optim_4Traits.csv\",\n",
        "           pd_traits3000.iloc[:,:].values,\n",
        "           delimiter=\";\")\n",
        "\n",
        "np.savetxt(\"/content/drive/My Drive/DSRP_Lunch_outputs/Optim_4Traits_S2Spectra.csv\",\n",
        "           np_optim_spectr,\n",
        "           delimiter=\";\")\n",
        "\n",
        "np.savetxt(\"/content/drive/My Drive/DSRP_Lunch_outputs/Optim_Pred_LBFGSB.csv\",\n",
        "           np_lbfgs,\n",
        "           delimiter=\";\")\n",
        "\n",
        "np.savetxt(\"/content/drive/My Drive/DSRP_Lunch_outputs/Optim_Pred_SLSQP.csv\",\n",
        "           np_slsqp,\n",
        "           delimiter=\";\")\n",
        "\n",
        "np.savetxt(\"/content/drive/My Drive/DSRP_Lunch_outputs/Optim_Pred_pso.csv\",\n",
        "           np_pso,\n",
        "           delimiter=\";\")\n",
        "\n",
        "np.savetxt(\"/content/drive/My Drive/DSRP_Lunch_outputs/Optim_Pred_diffevo.csv\",\n",
        "           np_diffevo,\n",
        "           delimiter=\";\")\n",
        "\n",
        "np.savetxt(\"/content/drive/My Drive/DSRP_Lunch_outputs/Optim_Pred_BayesOpt.csv\",\n",
        "           np_bayesopti,\n",
        "           delimiter=\";\")\n"
      ],
      "execution_count": null,
      "outputs": []
    }
  ]
}