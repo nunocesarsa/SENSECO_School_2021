{
  "nbformat": 4,
  "nbformat_minor": 0,
  "metadata": {
    "colab": {
      "name": "SENSECO_05_Downloading S2 Data.ipynb",
      "provenance": [],
      "collapsed_sections": [],
      "authorship_tag": "ABX9TyPOCAlmBJIIQojoYB0lJMiO",
      "include_colab_link": true
    },
    "kernelspec": {
      "name": "python3",
      "display_name": "Python 3"
    },
    "language_info": {
      "name": "python"
    }
  },
  "cells": [
    {
      "cell_type": "markdown",
      "metadata": {
        "id": "view-in-github",
        "colab_type": "text"
      },
      "source": [
        "<a href=\"https://colab.research.google.com/github/nunocesarsa/SENSECO_School_2021/blob/main/ColabNotebooks/SENSECO_05_Downloading_S2_Data.ipynb\" target=\"_parent\"><img src=\"https://colab.research.google.com/assets/colab-badge.svg\" alt=\"Open In Colab\"/></a>"
      ]
    },
    {
      "cell_type": "markdown",
      "metadata": {
        "id": "KMFkUKtzosx9"
      },
      "source": [
        "# Importing google earth engine package"
      ]
    },
    {
      "cell_type": "code",
      "metadata": {
        "id": "NXr3IGsDojwh"
      },
      "source": [
        "#importing Earth Engine package\n",
        "import ee"
      ],
      "execution_count": null,
      "outputs": []
    },
    {
      "cell_type": "code",
      "metadata": {
        "id": "ozum5y7covN9"
      },
      "source": [
        "#then we need to authenticate\n",
        "# Trigger the authentication flow.\n",
        "ee.Authenticate()\n",
        "\n",
        "# Initialize the library.\n",
        "ee.Initialize()"
      ],
      "execution_count": null,
      "outputs": []
    },
    {
      "cell_type": "markdown",
      "metadata": {
        "id": "5MjuTT3ho3Ge"
      },
      "source": [
        "# Connecting to Google drive"
      ]
    },
    {
      "cell_type": "code",
      "metadata": {
        "id": "DPkJQAxXo2W9"
      },
      "source": [
        "#and now we link the colab also to the google drive so we can use it to store the outputs\n",
        "from google.colab import drive\n",
        "drive.mount('/content/drive')"
      ],
      "execution_count": null,
      "outputs": []
    },
    {
      "cell_type": "markdown",
      "metadata": {
        "id": "YhcsbGLQmBY5"
      },
      "source": [
        "#Loading packages"
      ]
    },
    {
      "cell_type": "code",
      "metadata": {
        "id": "YBV2cREhl_9d"
      },
      "source": [
        "import pandas as pd\n"
      ],
      "execution_count": null,
      "outputs": []
    },
    {
      "cell_type": "markdown",
      "metadata": {
        "id": "YkcepCuqo88F"
      },
      "source": [
        "#1) Loading a shapefile\n",
        "\n",
        " - here we use geopandas to load a shapefile first\n",
        " - then we create a custom function that converts an input file to a list of coordinates\n",
        " - then we looad this list using the ee.Geometry.Polygon\n",
        "\n"
      ]
    },
    {
      "cell_type": "code",
      "metadata": {
        "id": "czr9qBTps1Il"
      },
      "source": [
        "#installing needed package\n",
        "!pip install geopandas"
      ],
      "execution_count": null,
      "outputs": []
    },
    {
      "cell_type": "code",
      "metadata": {
        "id": "tXtM3YAJstd2"
      },
      "source": [
        "import geopandas as gpd\n",
        "\n",
        "CLBJ_shp = gpd.read_file(\"/content/drive/MyDrive/SENSECO/Shapefiles/CLBJ Boundary_Square_Small.shp\")\n",
        "\n",
        "#auxiliar function to convert to json\n",
        "def coords_from_gpd(shape_in):\n",
        "  return eval(shape_in.to_json())['features'][0]['geometry']['coordinates']\n",
        "\n",
        "\n",
        "#loading to GEE - polygon cant be very complex it seems \n",
        "CLBJ_gee =  ee.Geometry.Polygon(coords_from_gpd(CLBJ_shp))"
      ],
      "execution_count": null,
      "outputs": []
    },
    {
      "cell_type": "markdown",
      "metadata": {
        "id": "LWT4ABL4tSrM"
      },
      "source": [
        "#2) Search collection"
      ]
    },
    {
      "cell_type": "code",
      "metadata": {
        "id": "Jdj7-mpCtUvc"
      },
      "source": [
        "tilelist = ['14SPB','14SPC']\n",
        "tilelist = ['14SPC']\n",
        "\n",
        "#this command creates an object which is already filtered to the aoi\n",
        "s2_collection = (ee.ImageCollection(\"COPERNICUS/S2_SR\") #selects the L8 Surface reflectance product in GEE\n",
        "                 .select(['B2','B3','B4',#'B8A'\n",
        "                          'B5','B6','B7',\n",
        "                          'B8A','B11','B12'\n",
        "                          ]) #selects the bands of interest\n",
        "                 .filter(ee.Filter.date('2016-01-01','2020-03-01')) #filters on the time - you can play around with this to select different dates..\n",
        "                 .filterBounds(CLBJ_gee) #filters on the Aoi we have created above\n",
        "                 .filter(ee.Filter.lt('CLOUDY_PIXEL_PERCENTAGE',5))\n",
        "                 .filter(ee.Filter.inList('MGRS_TILE', tilelist)))\n",
        "\n",
        "#checking the number of images\n",
        "count = s2_collection.size()\n",
        "print('Nr of images in collection: ', str(count.getInfo())+'\\n')"
      ],
      "execution_count": null,
      "outputs": []
    },
    {
      "cell_type": "markdown",
      "metadata": {
        "id": "wY7lx-BH3cxl"
      },
      "source": [
        "## Optional: exploring the metadata"
      ]
    },
    {
      "cell_type": "code",
      "metadata": {
        "colab": {
          "base_uri": "https://localhost:8080/"
        },
        "id": "w4yDy9PUs8Tb",
        "outputId": "3eee464d-5c51-4e41-c954-0e687ba18f46"
      },
      "source": [
        "mid_step = s2_collection.toList(count)\n",
        "s2_img = ee.Image(mid_step.get(0))\n",
        "s2_img_meta = s2_img.getInfo()\n",
        "s2_img_meta.get('properties',{}).get('MEAN_INCIDENCE_AZIMUTH_ANGLE_B1')"
      ],
      "execution_count": null,
      "outputs": [
        {
          "output_type": "execute_result",
          "data": {
            "text/plain": [
              "250.068464074"
            ]
          },
          "metadata": {},
          "execution_count": 8
        }
      ]
    },
    {
      "cell_type": "code",
      "metadata": {
        "id": "Nt73zR213lVl"
      },
      "source": [
        "#exploring the file names\n",
        "for i in range(count.getInfo()):\n",
        "  mid_step = s2_collection.toList(count) #this is an internal step to help us loop on the data itself\n",
        "  s2_img = ee.Image(mid_step.get(i)) #this fetches ith image on the collection \n",
        "  s2_img_meta = s2_img.getInfo()   #this creates an object which has only the metadata \n",
        "  print('At position',i,'is Product ID: ',s2_img_meta.get('properties',{}).get('PRODUCT_ID'))\n"
      ],
      "execution_count": null,
      "outputs": []
    },
    {
      "cell_type": "markdown",
      "metadata": {
        "id": "WeLkZF703toy"
      },
      "source": [
        "## Optional: Visualizing one image\n",
        "\n",
        "For this, we import folium pacakge, and create a specific function to assist. This is to make a prettier and more explorable map than the normal.\n",
        "\n",
        "(this was copy pasted, probably there are other ways of doing the same).\n",
        "\n",
        "This tutorial gives an excellent run down example of the many options in folium\n",
        "\n",
        "https://spatial.utk.edu/maps/ee-api-folium-setup.html"
      ]
    },
    {
      "cell_type": "code",
      "metadata": {
        "id": "kOMGzdws3nyc"
      },
      "source": [
        "#compare 2 dates\n",
        "\n",
        "#in here, we select an image of the list - in python lists start at 0\n",
        "mid_step = s2_collection.toList(count)\n",
        "s2_img_1 = ee.Image(mid_step.get(0))\n",
        "s2_img_2 = ee.Image(mid_step.get(1))\n",
        "\n",
        "#this command clips the image based on the original poly area\n",
        "s2_img_clip = s2_img_1.clip(CLBJ_gee)\n",
        "\n",
        "# Import the Folium library. This library is to assist in visualizations\n",
        "import folium\n",
        "\n",
        "# Import the Image function from the IPython.display module. \n",
        "from IPython.display import Image\n",
        "\n",
        "# Define a method for displaying Earth Engine image tiles to folium map.\n",
        "    #the next code snippet i stole from someone\n",
        "    #this is a simplified version of the original function\n",
        "def add_ee_layer(self, ee_image_object, vis_params, name):\n",
        "  \n",
        "  map_id_dict = ee.Image(ee_image_object).getMapId(vis_params)\n",
        "  folium.raster_layers.TileLayer(\n",
        "    tiles = map_id_dict['tile_fetcher'].url_format,\n",
        "    attr = 'Map Data &copy; <a href=\"https://earthengine.google.com/\">Google Earth Engine</a>',\n",
        "    name = name,\n",
        "    overlay = True,\n",
        "    control = True\n",
        "  ).add_to(self)\n",
        "\n",
        "\n",
        "\n",
        "# Add EE drawing method to folium.\n",
        "folium.Map.add_ee_layer = add_ee_layer\n",
        "\n",
        "#starting location of the map\n",
        "my_map = folium.Map(location=[33.3,-97.6], zoom_start=12) #this had to be tried one by one... feels daf\n",
        "\n",
        "# Set visualization parameters. Here is we can create different visualizations of our data\n",
        "visParams = {\"bands\": ['B4', 'B3', 'B2'],\"gain\": '0.1, 0.1, 0.1',\"scale\":20}\n",
        "visParams_nir = {\"bands\": ['B8A', 'B4', 'B3'],\"gain\": '0.1, 0.1, 0.1',\"scale\":20}\n",
        "\n",
        "# Add the image to the folium map\n",
        "my_map.add_ee_layer(s2_img_1, visParams, 'RGB Date 1')\n",
        "my_map.add_ee_layer(s2_img_clip, visParams_nir, 'NIR composite - clipped')\n",
        "my_map.add_ee_layer(s2_img_2, visParams, 'RGB Date 2')\n",
        "\n",
        "#adding a layer control\n",
        "my_map.add_child(folium.LayerControl())\n",
        "\n",
        "# Display the map.\n",
        "display(my_map)"
      ],
      "execution_count": null,
      "outputs": []
    },
    {
      "cell_type": "markdown",
      "metadata": {
        "id": "yogO-nDm4yLj"
      },
      "source": [
        "#3) Downloading"
      ]
    },
    {
      "cell_type": "code",
      "metadata": {
        "id": "MPAQP5gz43Nq"
      },
      "source": [
        "\n",
        "#df_inc_angles = pd.DataFrame(columns=[\"Imagename\",\"Azimuth\",\"Zenith\"])\n",
        "df_angles = pd.DataFrame(columns=[\"Imagename\",\"Sen_Azimuth\",\"Sen_Zenith\",\"Sol_Azimuth\",\"Sol_Zenith\"])\n",
        "\n",
        "#this is an internal step to help us loop on the data itself\n",
        "mid_step = s2_collection.toList(count)\n",
        "\n",
        "for i in range(count.getInfo()):\n",
        "#for i in range(1):\n",
        "\n",
        "\n",
        "  #print(i)\n",
        "\n",
        "  s2_img = ee.Image(mid_step.get(i)) #this fetches ith image on the collection \n",
        "  s2_img_meta = s2_img.getInfo()   #this creates an object which has only the metadata \n",
        "  imagename = s2_img_meta.get('properties',{}).get('PRODUCT_ID')\n",
        "  #print('At position',i,'is Product ID: ',imagename)\n",
        "\n",
        "  #calculating a mean azimuth and mean zenith from all bands used\n",
        "  mean_azi = (s2_img_meta.get('properties',{}).get('MEAN_INCIDENCE_AZIMUTH_ANGLE_B2')+\\\n",
        "              s2_img_meta.get('properties',{}).get('MEAN_INCIDENCE_AZIMUTH_ANGLE_B3')+\\\n",
        "              s2_img_meta.get('properties',{}).get('MEAN_INCIDENCE_AZIMUTH_ANGLE_B4')+\\\n",
        "              s2_img_meta.get('properties',{}).get('MEAN_INCIDENCE_AZIMUTH_ANGLE_B5')+\\\n",
        "              s2_img_meta.get('properties',{}).get('MEAN_INCIDENCE_AZIMUTH_ANGLE_B6')+\\\n",
        "              s2_img_meta.get('properties',{}).get('MEAN_INCIDENCE_AZIMUTH_ANGLE_B7')+\\\n",
        "              s2_img_meta.get('properties',{}).get('MEAN_INCIDENCE_AZIMUTH_ANGLE_B8A')+\\\n",
        "              s2_img_meta.get('properties',{}).get('MEAN_INCIDENCE_AZIMUTH_ANGLE_B11')+\\\n",
        "              s2_img_meta.get('properties',{}).get('MEAN_INCIDENCE_AZIMUTH_ANGLE_B12'))/9\n",
        "\n",
        "  mean_zen = (s2_img_meta.get('properties',{}).get('MEAN_INCIDENCE_ZENITH_ANGLE_B2')+\\\n",
        "              s2_img_meta.get('properties',{}).get('MEAN_INCIDENCE_ZENITH_ANGLE_B3')+\\\n",
        "              s2_img_meta.get('properties',{}).get('MEAN_INCIDENCE_ZENITH_ANGLE_B4')+\\\n",
        "              s2_img_meta.get('properties',{}).get('MEAN_INCIDENCE_ZENITH_ANGLE_B5')+\\\n",
        "              s2_img_meta.get('properties',{}).get('MEAN_INCIDENCE_ZENITH_ANGLE_B6')+\\\n",
        "              s2_img_meta.get('properties',{}).get('MEAN_INCIDENCE_ZENITH_ANGLE_B7')+\\\n",
        "              s2_img_meta.get('properties',{}).get('MEAN_INCIDENCE_ZENITH_ANGLE_B8A')+\\\n",
        "              s2_img_meta.get('properties',{}).get('MEAN_INCIDENCE_ZENITH_ANGLE_B11')+\\\n",
        "              s2_img_meta.get('properties',{}).get('MEAN_INCIDENCE_ZENITH_ANGLE_B12'))/9\n",
        "  \n",
        "\n",
        "  #storing the angle information into a table\n",
        "  df_angles = df_angles.append({\"Imagename\":imagename,\n",
        "                                \"Sen_Azimuth\":mean_azi,\n",
        "                                \"Sen_Zenith\":mean_zen,\n",
        "                                \"Sol_Azimuth\":s2_img_meta.get('properties',{}).get('MEAN_SOLAR_AZIMUTH_ANGLE'),\n",
        "                                \"Sol_Zenith\" :s2_img_meta.get('properties',{}).get('MEAN_SOLAR_ZENITH_ANGLE')},ignore_index=True)\n",
        "\n",
        "  #for checkup if needed\n",
        "  #print(mean_azi)\n",
        "  #print(s2_img_meta.get('properties',{}).get('MEAN_INCIDENCE_AZIMUTH_ANGLE_B3'))\n",
        "  #print(mean_zen)\n",
        "  #print(s2_img_meta.get('properties',{}).get('MEAN_INCIDENCE_ZENITH_ANGLE_B2'))\n",
        "  \n",
        "  \n",
        "\n",
        "  #these are task commands to be sent to GEE\n",
        "  task_config = {\n",
        "      'image': s2_img,\n",
        "      'fileFormat': 'GeoTIFF',\n",
        "      'folder': 'SENSECO_S2Data', #Meijendel folder \n",
        "      'fileNamePrefix': imagename[0:19] + \"_T14SPC\", #careful with the tile name, if its changed then its wrong\n",
        "      'description': \"clipped area\",\n",
        "      'scale':20,\n",
        "      'region':CLBJ_gee\n",
        "  }\n",
        "\n",
        "  #print(\"Google Earth engine task started\")\n",
        "  task = ee.batch.Export.image.toDrive(**task_config )\n",
        "  task.start()\n",
        "\n",
        "  #creates a loop that is infinite until the its finished\n",
        "  k=1\n",
        "  flag = task.status()['state']\n",
        "  while flag != 'COMPLETED':\n",
        "    \n",
        "    flag = task.status()['state']\n",
        "    #print(k,flag)\n",
        "\n",
        "    #this is to check the status every N iterations\n",
        "    if k == 30:\n",
        "      print(flag)\n",
        "      k=1\n",
        "    \n",
        "    k=k+1\n",
        "\n",
        "    if flag == 'FAILED':\n",
        "\n",
        "      print(\"GEE data cropping failed - proceeding to next image\")\n",
        "      print(\"Failed: \"+ out_s2_name)\n",
        "      flag = 'COMPLETED' \n",
        "  print(flag)\n",
        "\n",
        "  print(\"Saved at: \" + \"/content/drive/MyDrive/SENSECO/S2Data/\" + imagename + \".tif\")\n",
        "\n",
        "\n",
        "  "
      ],
      "execution_count": null,
      "outputs": []
    },
    {
      "cell_type": "code",
      "metadata": {
        "id": "v1-Upf05srPZ"
      },
      "source": [
        "df_angles.to_csv(\"/content/drive/MyDrive/SENSECO_S2Data/AngleInformation.csv\",sep=\",\",decimal=\".\")\n",
        "df_angles.to_csv(\"/content/drive/MyDrive/SENSECO_S2Data/AngleInformation_csvNuno.csv\",sep=\";\",decimal=\".\")"
      ],
      "execution_count": null,
      "outputs": []
    }
  ]
}