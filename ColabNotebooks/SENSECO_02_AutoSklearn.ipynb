{
  "nbformat": 4,
  "nbformat_minor": 0,
  "metadata": {
    "colab": {
      "name": "SENSECO_02_AutoSklearn.ipynb",
      "provenance": [],
      "toc_visible": true,
      "authorship_tag": "ABX9TyPofEMI9octGxN45cS0eOWs",
      "include_colab_link": true
    },
    "kernelspec": {
      "name": "python3",
      "display_name": "Python 3"
    },
    "language_info": {
      "name": "python"
    }
  },
  "cells": [
    {
      "cell_type": "markdown",
      "metadata": {
        "id": "view-in-github",
        "colab_type": "text"
      },
      "source": [
        "<a href=\"https://colab.research.google.com/github/nunocesarsa/SENSECO_School_2021/blob/main/ColabNotebooks/SENSECO_02_AutoSklearn.ipynb\" target=\"_parent\"><img src=\"https://colab.research.google.com/assets/colab-badge.svg\" alt=\"Open In Colab\"/></a>"
      ]
    },
    {
      "cell_type": "markdown",
      "metadata": {
        "id": "Tt60zc7BC6Jx"
      },
      "source": [
        "#Preparing google colab\n",
        "\n",
        "This notebook just shows details each step of the AutoSklearn installation in Google colab. \n",
        "\n",
        "The instalation and testing sections were adapted from: https://colab.research.google.com/github/vopani/fortyone/blob/main/notebooks/automl/tabular/Auto-Sklearn.ipynb#scrollTo=yFSo4OV0FOZN\n",
        "\n",
        "\n",
        "\n"
      ]
    },
    {
      "cell_type": "markdown",
      "metadata": {
        "id": "VX-0fI4eWS6N"
      },
      "source": [
        "## Dependencies"
      ]
    },
    {
      "cell_type": "code",
      "metadata": {
        "id": "VRcsR5Ac_yDh"
      },
      "source": [
        "!python3 -m pip install --upgrade pip\n",
        "!pip3 install scikit-learn==0.24.1\n",
        "!pip3 install pandas"
      ],
      "execution_count": null,
      "outputs": []
    },
    {
      "cell_type": "markdown",
      "metadata": {
        "id": "M6OPUQK1Wb0N"
      },
      "source": [
        "## AutoSklearn\n",
        "\n",
        "\n",
        "*   AutoML Freiburg: https://www.automl.org/\n",
        "*   Manual: https://automl.github.io/auto-sklearn/master/manual.html\n",
        "*   Github: https://github.com/automl/auto-sklearn\n",
        "\n"
      ]
    },
    {
      "cell_type": "code",
      "metadata": {
        "id": "MZkP8q-XWUmc"
      },
      "source": [
        "!curl https://raw.githubusercontent.com/automl/auto-sklearn/master/requirements.txt | xargs -n 1 -L 1 pip3 install\n",
        "!pip3 install auto-sklearn\n",
        "\n",
        "#NOTICE: you ARE required to restart runtime before proceeding"
      ],
      "execution_count": null,
      "outputs": []
    },
    {
      "cell_type": "markdown",
      "metadata": {
        "id": "c6wOLihVYhFd"
      },
      "source": [
        "Restart runtime!"
      ]
    },
    {
      "cell_type": "markdown",
      "metadata": {
        "id": "39JvnC5dX1Ef"
      },
      "source": [
        "### Testing AutoSklearn"
      ]
    },
    {
      "cell_type": "code",
      "metadata": {
        "id": "aulmfr7ZX3L-"
      },
      "source": [
        "from autosklearn.classification import AutoSklearnClassifier\n",
        "from sklearn.datasets import load_breast_cancer\n",
        "\n",
        "data = load_breast_cancer(as_frame=True)['data']\n",
        "target = load_breast_cancer(as_frame=True)['target']\n",
        "\n",
        "sklearn_aml = AutoSklearnClassifier(time_left_for_this_task=30)\n",
        "sklearn_aml.fit(X=data, y=target)"
      ],
      "execution_count": null,
      "outputs": []
    },
    {
      "cell_type": "markdown",
      "metadata": {
        "id": "b_Qqu1p2Y3po"
      },
      "source": [
        "### Exploring pipeline\n",
        "\n",
        "- uses another package: pipeline profiler - https://pypi.org/project/pipelineprofiler/\n",
        "- https://arxiv.org/pdf/2005.00160.pdf"
      ]
    },
    {
      "cell_type": "code",
      "metadata": {
        "id": "sj1yTHJtYurW"
      },
      "source": [
        "!pip install PipelineProfiler\n",
        "import PipelineProfiler"
      ],
      "execution_count": null,
      "outputs": []
    },
    {
      "cell_type": "code",
      "metadata": {
        "id": "64FmaC5vaINd"
      },
      "source": [
        "prof_data = PipelineProfiler.import_autosklearn(sklearn_aml)\n",
        "PipelineProfiler.plot_pipeline_matrix(prof_data)"
      ],
      "execution_count": null,
      "outputs": []
    }
  ]
}